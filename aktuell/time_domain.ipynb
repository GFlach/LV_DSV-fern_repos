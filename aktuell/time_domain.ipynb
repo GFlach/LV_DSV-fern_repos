{
 "cells": [
  {
   "cell_type": "code",
   "execution_count": null,
   "metadata": {},
   "outputs": [],
   "source": [
    "%matplotlib\n",
    "%pylab inline\n",
    "import numpy as np\n",
    "import matplotlib.pyplot as plt"
   ]
  },
  {
   "cell_type": "code",
   "execution_count": null,
   "metadata": {},
   "outputs": [],
   "source": [
    "import sources.stochsig as st"
   ]
  },
  {
   "cell_type": "markdown",
   "metadata": {},
   "source": [
    "## 5 Diskrete Signale im Zeitbereich\n",
    "Die Darstellung deterministischer Signale im Zeitbereich wurde im Abschnitt 2 dargestellt. In der Realität werden jedoch meist stochastische Signale betrachtet, die nicht über Bildungsvorschriften beschrieben werden können. Da diese Signale meist durch Zufallsprozesse erzeugt werden, können mathematische Methoden angewendet werden, um bestimmte Signalbeschreibungsgrößen und -zusammenhänge zu ermitteln. Diese können dann für die Modellbildung des Erzeugungsprozesses und in der Signalvorverarbeitung verwendet werden."
   ]
  },
  {
   "cell_type": "markdown",
   "metadata": {},
   "source": [
    "#### 5.1 Mittelwert\n",
    "Der Mittelwert oder Erwartungswert ist der Wert, den die zufällige Größe im Mittel annimmt. Dazu werden N Beobachtungen herangezogen. Der Mittelwert wird auch als gewöhnliches Moment bezeichnet.\n",
    "\n",
    "$m_{X} = E(X) = \\frac{1}{N} \\sum_{i=1}^{N} x_{i} $\n",
    "\n",
    "#### 5.2 Varianz und Standardabweichung\n",
    "Die Varianz ist ein Maß für die Abweichung der beobachteten Werte vom Mittelwert. Hier soll die vorliegende Stichprobe der Grundgesamtheit entsprechen.\n",
    "\n",
    "$var(X) = E(X-m_{X}) = \\frac{1}{N} \\sum_{i=1}^{N}(x_{i} - m_{X})^{2}$\n",
    "\n",
    "Die Standardabweichung ist die Wurzel aus der Varianz.\n",
    "\n",
    "$\\sigma_{X} = \\sqrt{var(X)}$\n",
    "\n",
    "Eine Zufallsgröße kann über sogenannte zentrale Momente k-ter Ordnung beschrieben werden.\n",
    "\n",
    "$z_{k}(X) = \\frac{1}{N} \\sum_{i=1}^{N}(x_{i} - m_{X})^{k}$\n",
    "\n",
    "Dabei sind folgende (normalisierte) Momente von besonderer Bedeutung:\n",
    "- $ k = 2 $ : Varianz\n",
    "- $ \\frac{z_{3}(X)}{\\sigma_{X}^{3}} $ : Schiefe (Symmetrie einer Verteilung)\n",
    "- $ \\frac{z_{4}(X)}{\\sigma_{X}^{4}}  $ : Exzess, Kurtosis, Wölbung (spitze oder flache Verteilung)\n"
   ]
  },
  {
   "cell_type": "markdown",
   "metadata": {},
   "source": [
    "#### 5.3 Korrelation\n",
    "Die Korrelation kann für ein Signal (Autokorrelation) oder zwei unterschiedliche Signale (Kreuzkorrelation) angegeben werden. Dabei wird ein Maß für die Ähnlichkeit bei Verschiebung angegeben.\n",
    "\n",
    "$cor(X,r) = \\frac{1}{N} \\sum_{i=1}^{N}{x_{i} \\cdot x_{i-r}}$\n",
    "\n",
    "$cor(X,Y,r) = \\frac{1}{N} \\sum_{i=1}^{N}{x_{i} \\cdot y_{i-r}}$\n",
    "\n",
    "#### 5.4 Kovarianz\n",
    "Die Kovarianz beschreibt das Produkt der Abweichungen zweier Signale von ihren Erwartungswerten.\n",
    "\n",
    "$cov(X,Y) = \\frac{1}{N}\\sum_{i=1}^{N}{(x_{i}- m_{X}) \\cdot (y_{i} - m_{Y}})$\n",
    "\n",
    "#### 5.5 Pearsonscher Korrelationskoeffizient\n",
    "Der Zusammenhang zwischen 2 Zufallssignalen kann quantitativ durch den Pearsonschen Korrelationskoeffizienten beschrieben werden. \n",
    "\n",
    "$$ \\rho(X,Y) = \\frac{cov(X,Y)}{\\sqrt{var(X)} \\sqrt{var(Y)}} $$\n",
    "\n",
    "Dabei gilt:\n",
    "\n",
    "- $\\rho = 1$ : $ X = Y $\n",
    "- $\\rho = -1$ : $ X = -Y $\n",
    "- $\\rho = 0$ : kein Zusammenhang zwischen $ X $ und $ Y $\n",
    "\n",
    "Die Kovarianzen und Pearsonschen Korrelationskoeffizienten mehrerer Zufallssignale können in einer Kovarianz- und einer Korrelationsmatrix zusammengefasst werden."
   ]
  },
  {
   "cell_type": "markdown",
   "metadata": {},
   "source": [
    "#### 5.6 Veranschaulichung von Kenngrößen stochastischer Signale\n",
    "In den folgenden Zellen können die aufgeführten Kenngrößen veranschaulicht werden. Dazu werden zunächst 3 Zufallssignale X, Y, Z mit vorgebbarer Anzahl von Beobachtungen erzeugt."
   ]
  },
  {
   "cell_type": "markdown",
   "metadata": {},
   "source": [
    "#### <font color=\"#FF0000\">Eingabezelle</font>"
   ]
  },
  {
   "cell_type": "code",
   "execution_count": null,
   "metadata": {},
   "outputs": [],
   "source": [
    "NX = 1000\n",
    "NY = 1000\n",
    "NZ = 1000"
   ]
  },
  {
   "cell_type": "code",
   "execution_count": null,
   "metadata": {},
   "outputs": [],
   "source": [
    "# unabhängige Datenreihen\n",
    "X,Y,Z = st.generate_signals(nx = NX, ny = NY, nz = NZ)\n",
    "# abhängige Datenreihen\n",
    "#X,Y,Z = st.generate_corrsignals(NX)"
   ]
  },
  {
   "cell_type": "markdown",
   "metadata": {},
   "source": [
    "Darstellung der Datenreihen"
   ]
  },
  {
   "cell_type": "code",
   "execution_count": null,
   "metadata": {},
   "outputs": [],
   "source": [
    "st.show_signals(X,Y,Z)"
   ]
  },
  {
   "cell_type": "markdown",
   "metadata": {},
   "source": [
    "Darstellung der Histogramme"
   ]
  },
  {
   "cell_type": "code",
   "execution_count": null,
   "metadata": {},
   "outputs": [],
   "source": [
    "st.show_histograms(X,Y,Z)"
   ]
  },
  {
   "cell_type": "markdown",
   "metadata": {},
   "source": [
    "Berechnung von Mittelwert und Varianz"
   ]
  },
  {
   "cell_type": "code",
   "execution_count": null,
   "metadata": {
    "scrolled": true
   },
   "outputs": [],
   "source": [
    "st.mean_var(X,Y,Z)"
   ]
  },
  {
   "cell_type": "markdown",
   "metadata": {},
   "source": [
    "Normierung der Daten\n",
    "\n",
    "$X = \\frac{X- \\mu}{\\sigma^{2}}$"
   ]
  },
  {
   "cell_type": "code",
   "execution_count": null,
   "metadata": {},
   "outputs": [],
   "source": [
    "Xn, Yn, Zn = st.norm_signals(X,Y,Z)\n",
    "st.show_signals(Xn,Yn,Zn)"
   ]
  },
  {
   "cell_type": "markdown",
   "metadata": {},
   "source": [
    "Berechnung der Kovarianzmatrix"
   ]
  },
  {
   "cell_type": "code",
   "execution_count": null,
   "metadata": {},
   "outputs": [],
   "source": [
    "st.covariance_matrix(X,Y,Z)"
   ]
  },
  {
   "cell_type": "markdown",
   "metadata": {},
   "source": [
    "Darstellung der Signalabhängigkeit"
   ]
  },
  {
   "cell_type": "code",
   "execution_count": null,
   "metadata": {},
   "outputs": [],
   "source": [
    "st.show_dependency(Xn,Yn,Zn)"
   ]
  }
 ],
 "metadata": {
  "kernelspec": {
   "display_name": "Python 3",
   "language": "python",
   "name": "python3"
  },
  "language_info": {
   "codemirror_mode": {
    "name": "ipython",
    "version": 3
   },
   "file_extension": ".py",
   "mimetype": "text/x-python",
   "name": "python",
   "nbconvert_exporter": "python",
   "pygments_lexer": "ipython3",
   "version": "3.6.5"
  }
 },
 "nbformat": 4,
 "nbformat_minor": 1
}
