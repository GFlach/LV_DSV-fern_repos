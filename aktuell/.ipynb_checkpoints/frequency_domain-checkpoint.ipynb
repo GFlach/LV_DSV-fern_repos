{
 "cells": [
  {
   "cell_type": "code",
   "execution_count": null,
   "metadata": {},
   "outputs": [],
   "source": [
    "%matplotlib\n",
    "%pylab inline\n",
    "import numpy as np\n",
    "import matplotlib.pyplot as plt\n",
    "import sources.stochsig as st"
   ]
  },
  {
   "cell_type": "markdown",
   "metadata": {},
   "source": [
    "## 6 Diskrete Signale im Bildbereich\n",
    "### 6.1 Berechnung der DFT mittels FFT\n",
    "\n",
    "### 6.2 Wichtige Eigenschaften der DFT/FFT\n",
    "\n",
    "### 6.3 DFT-Approximation der Fouriertransformierten\n",
    "\n",
    "### 6.4 Leakage und Fensterung\n",
    "\n",
    "### 6.5 Cepstrumanalyse"
   ]
  }
 ],
 "metadata": {
  "kernelspec": {
   "display_name": "Python 3",
   "language": "python",
   "name": "python3"
  },
  "language_info": {
   "codemirror_mode": {
    "name": "ipython",
    "version": 3
   },
   "file_extension": ".py",
   "mimetype": "text/x-python",
   "name": "python",
   "nbconvert_exporter": "python",
   "pygments_lexer": "ipython3",
   "version": "3.6.5"
  }
 },
 "nbformat": 4,
 "nbformat_minor": 1
}
