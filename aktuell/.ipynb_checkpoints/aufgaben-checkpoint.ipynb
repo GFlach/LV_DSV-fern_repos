{
 "cells": [
  {
   "cell_type": "markdown",
   "metadata": {},
   "source": [
    "[Table of Contents](table_of_contents.ipynb)"
   ]
  },
  {
   "cell_type": "markdown",
   "metadata": {},
   "source": [
    "## 7 Aufgaben\n",
    "\n",
    "#### Aufgabe 1\n",
    "Stellen Sie die folgenden Signale für $-10 \\le n \\le 10$ graphisch dar und geben Sie jeweils $\\left\\{x(n)\\right\\}$ als Folge und die Bildungsvorschrift der Folge an!\n"
   ]
  },
  {
   "cell_type": "markdown",
   "metadata": {
    "collapsed": true
   },
   "source": [
    "a) $\\left\\{x(n)\\right\\}=\\left\\{s(n)\\right\\}+\\left\\{r(n)\\right\\}$\n",
    "\n",
    "b) $\\left\\{x(n)\\right\\}=2\\left\\{s(n)\\right\\}-\\left\\{s(n-2)\\right\\}-\\left\\{s(n-4)\\right\\}$\n",
    "\n",
    "c) $\\left\\{x(n)\\right\\}=\\left\\{s(n)2^n\\right\\}$\n",
    "\n",
    "d) $\\left\\{x(n)\\right\\}=\\left\\{δ(n-2) 2^n\\right\\}$\n",
    "\n",
    "e) $\\left\\{x(n)\\right\\}=\\left\\{s(n)-s(n-10)\\right\\}\\left\\{cos(π/5 n)\\right\\}$"
   ]
  },
  {
   "cell_type": "markdown",
   "metadata": {},
   "source": [
    "[Lösung](loesung_a1.ipynb)"
   ]
  },
  {
   "cell_type": "markdown",
   "metadata": {},
   "source": [
    "#### Aufgabe 2\n",
    "Untersuchen Sie die folgenden Signale auf vorhandene Periodizität. Falls das jeweilige Signal periodisch ist, geben Sie seine Periode an. "
   ]
  },
  {
   "cell_type": "markdown",
   "metadata": {},
   "source": [
    "a) $\\left\\{x(n)\\right\\}= \\left\\{e^{j(πn/6)}\\right\\}$\n",
    "\n",
    "b) $\\left\\{x(n)\\right\\}= \\left\\{e^{j(3πn/4)}\\right\\}$\n",
    "\n",
    "c) $\\left\\{x(n)\\right\\}= \\left\\{sin(πn/5)/(πn)\\right\\}$\n",
    "\n",
    "d) $\\left\\{x(n)\\right\\}= \\left\\{e^{jπn/√2}\\right\\}$"
   ]
  },
  {
   "cell_type": "markdown",
   "metadata": {},
   "source": [
    "#### Aufgabe 3\n",
    "Ein Signal $x(t)=X_{0} sin(2\\pi f_{0} t)$ mit $X_{0}=1$ und $f_{0}=2kHz$  soll abgetastet werden.\n",
    "Zeichnen Sie in ein Diagramm:\n",
    "- das abzutastende Signal $x(t)$\n",
    "- das Abtastsignal   mit einer Abtastfrequenz von $f_{S}=5 kHz$ und mit den Abtastzeitpunkten $t_{n}= n \\cdot T_{S}$ für $n = -6 \\ldots+7$\n",
    "- das abgetastete Signal $x'(t)$\n",
    "\n",
    "Zeichnen Sie in ein weiteres Diagramm:\n",
    "\t\n",
    "- das Spektrum des abzutastenden Signals $x(t)$\n",
    "- das Spektrum des Abtastsignals\n",
    "- das Spektrum des abgetasteten Signals $x'(t)$"
   ]
  },
  {
   "cell_type": "markdown",
   "metadata": {},
   "source": [
    "[Lösung](loesung_a3.ipynb)"
   ]
  },
  {
   "cell_type": "markdown",
   "metadata": {},
   "source": [
    "#### Aufgabe 4\n",
    "Version Notebook"
   ]
  },
  {
   "cell_type": "markdown",
   "metadata": {},
   "source": [
    "[Lösung](loesung_a4.ipynb)"
   ]
  }
 ],
 "metadata": {
  "kernelspec": {
   "display_name": "Python 3",
   "language": "python",
   "name": "python3"
  },
  "language_info": {
   "codemirror_mode": {
    "name": "ipython",
    "version": 3
   },
   "file_extension": ".py",
   "mimetype": "text/x-python",
   "name": "python",
   "nbconvert_exporter": "python",
   "pygments_lexer": "ipython3",
   "version": "3.6.5"
  }
 },
 "nbformat": 4,
 "nbformat_minor": 1
}
