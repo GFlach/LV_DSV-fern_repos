{
 "cells": [
  {
   "cell_type": "code",
   "execution_count": null,
   "metadata": {},
   "outputs": [],
   "source": [
    "%matplotlib\n",
    "%pylab inline\n",
    "import numpy as np\n",
    "import matplotlib.pyplot as plt"
   ]
  },
  {
   "cell_type": "code",
   "execution_count": null,
   "metadata": {},
   "outputs": [],
   "source": [
    "import sources.uebung.dsv1 as dsv1\n",
    "import sources.dsvorg as do\n",
    "import sources.dac as dac\n",
    "import sources.bsfilter as bsfilter\n",
    "import sources.classes.signal as sig\n",
    "import sources.stochsig as st"
   ]
  },
  {
   "cell_type": "markdown",
   "metadata": {},
   "source": [
    "#### Aufgabe 1\n",
    "Stellen Sie die folgenden Signale für $-10 \\le n \\le 10$ graphisch dar und geben Sie jeweils $\\left\\{x(n)\\right\\}$ als Folge und die Bildungsvorschrift der Folge an!"
   ]
  },
  {
   "cell_type": "markdown",
   "metadata": {
    "collapsed": true
   },
   "source": [
    "a) $\\left\\{x(n)\\right\\}=\\left\\{s(n)\\right\\}+\\left\\{r(n)\\right\\}$\n",
    "\n",
    "b) $\\left\\{x(n)\\right\\}=2\\left\\{s(n)\\right\\}-\\left\\{s(n-2)\\right\\}-\\left\\{s(n-4)\\right\\}$\n",
    "\n",
    "c) $\\left\\{x(n)\\right\\}=\\left\\{s(n)2^n\\right\\}$\n",
    "\n",
    "d) $\\left\\{x(n)\\right\\}=\\left\\{δ(n-2) 2^n\\right\\}$\n",
    "\n",
    "e) $\\left\\{x(n)\\right\\}=\\left\\{s(n)-s(n-10)\\right\\}\\left\\{cos(π/5 n)\\right\\}$"
   ]
  },
  {
   "cell_type": "markdown",
   "metadata": {},
   "source": [
    "#### Lösung\n",
    "\n",
    "a) $\\left\\{x(n)\\right\\}=\\left\\{s(n)\\right\\}+\\left\\{r(n)\\right\\}$"
   ]
  },
  {
   "cell_type": "code",
   "execution_count": null,
   "metadata": {},
   "outputs": [],
   "source": [
    "shift = 0\n",
    "abs_n = 10\n",
    "weight = 1\n",
    "mirr = False"
   ]
  },
  {
   "cell_type": "code",
   "execution_count": null,
   "metadata": {},
   "outputs": [],
   "source": [
    "data1, typ = dsv1.sprung(shift=shift, abs_n = abs_n, weight = weight, mirr = mirr)\n",
    "data2, typ = dsv1.rampe(shift=shift, abs_n = abs_n, weight = weight, mirr = mirr)\n",
    "data3 = data1 + data2"
   ]
  },
  {
   "cell_type": "code",
   "execution_count": null,
   "metadata": {},
   "outputs": [],
   "source": [
    "typ = 'a)'\n",
    "dsv1.plot_signal(data=data3, sig_typ=typ)"
   ]
  },
  {
   "cell_type": "markdown",
   "metadata": {},
   "source": [
    "b) $\\left\\{x(n)\\right\\}=2\\left\\{s(n)\\right\\}-\\left\\{s(n-2)\\right\\}-\\left\\{s(n-4)\\right\\}$"
   ]
  },
  {
   "cell_type": "code",
   "execution_count": null,
   "metadata": {},
   "outputs": [],
   "source": [
    "shift = 0\n",
    "abs_n = 10\n",
    "weight = 2\n",
    "mirr = False"
   ]
  },
  {
   "cell_type": "code",
   "execution_count": null,
   "metadata": {},
   "outputs": [],
   "source": [
    "data1, typ = dsv1.sprung(shift=shift, abs_n = abs_n, weight = weight, mirr = mirr)"
   ]
  },
  {
   "cell_type": "code",
   "execution_count": null,
   "metadata": {},
   "outputs": [],
   "source": [
    "shift = 2\n",
    "weight = -1"
   ]
  },
  {
   "cell_type": "code",
   "execution_count": null,
   "metadata": {},
   "outputs": [],
   "source": [
    "data2, typ = dsv1.sprung(shift=shift, abs_n = abs_n, weight = weight, mirr = mirr)"
   ]
  },
  {
   "cell_type": "code",
   "execution_count": null,
   "metadata": {},
   "outputs": [],
   "source": [
    "shift = 4\n",
    "weight = -1"
   ]
  },
  {
   "cell_type": "code",
   "execution_count": null,
   "metadata": {},
   "outputs": [],
   "source": [
    "data3, typ = dsv1.sprung(shift=shift, abs_n = abs_n, weight = weight, mirr = mirr)\n",
    "data4 = data1 + data2 + data3"
   ]
  },
  {
   "cell_type": "code",
   "execution_count": null,
   "metadata": {},
   "outputs": [],
   "source": [
    "typ = 'b)'\n",
    "dsv1.plot_signal(data=data4, sig_typ=typ)"
   ]
  },
  {
   "cell_type": "markdown",
   "metadata": {},
   "source": [
    "c) $\\left\\{x(n)\\right\\}=\\left\\{s(n)2^n\\right\\}$"
   ]
  },
  {
   "cell_type": "code",
   "execution_count": null,
   "metadata": {},
   "outputs": [],
   "source": [
    "shift = 0\n",
    "abs_n = 10\n",
    "weight = 1\n",
    "mirr = False"
   ]
  },
  {
   "cell_type": "code",
   "execution_count": null,
   "metadata": {},
   "outputs": [],
   "source": [
    "data1, typ = dsv1.sprung(shift=shift, abs_n = abs_n, weight = weight, mirr = mirr)"
   ]
  },
  {
   "cell_type": "code",
   "execution_count": null,
   "metadata": {},
   "outputs": [],
   "source": [
    "exponent = np.arange(-10,11, 1)\n",
    "data2 = data1 * 2.0**exponent"
   ]
  },
  {
   "cell_type": "code",
   "execution_count": null,
   "metadata": {},
   "outputs": [],
   "source": [
    "typ = 'c)'\n",
    "dsv1.plot_signal(data=data2, sig_typ=typ)"
   ]
  },
  {
   "cell_type": "markdown",
   "metadata": {},
   "source": [
    "d) $\\left\\{x(n)\\right\\}=\\left\\{δ(n-2) 2^n\\right\\}$"
   ]
  },
  {
   "cell_type": "code",
   "execution_count": null,
   "metadata": {},
   "outputs": [],
   "source": [
    "data = np.zeros(21)\n",
    "data[12] = 4"
   ]
  },
  {
   "cell_type": "code",
   "execution_count": null,
   "metadata": {},
   "outputs": [],
   "source": [
    "typ = 'd)'\n",
    "dsv1.plot_signal(data=data, sig_typ=typ)"
   ]
  },
  {
   "cell_type": "markdown",
   "metadata": {},
   "source": [
    "e) $\\left\\{x(n)\\right\\}=\\left\\{s(n)-s(n-10)\\right\\}\\left\\{cos((π n)/5)\\right\\}$"
   ]
  },
  {
   "cell_type": "code",
   "execution_count": null,
   "metadata": {},
   "outputs": [],
   "source": [
    "shift = 0\n",
    "abs_n = 10\n",
    "weight = 1\n",
    "mirr = False"
   ]
  },
  {
   "cell_type": "code",
   "execution_count": null,
   "metadata": {},
   "outputs": [],
   "source": [
    "data1, typ = dsv1.sprung(shift=shift, abs_n = abs_n, weight = weight, mirr = mirr)"
   ]
  },
  {
   "cell_type": "code",
   "execution_count": null,
   "metadata": {},
   "outputs": [],
   "source": [
    "shift = 10"
   ]
  },
  {
   "cell_type": "code",
   "execution_count": null,
   "metadata": {},
   "outputs": [],
   "source": [
    "data2, typ = dsv1.sprung(shift=shift, abs_n = abs_n, weight = weight, mirr = mirr)"
   ]
  },
  {
   "cell_type": "code",
   "execution_count": null,
   "metadata": {},
   "outputs": [],
   "source": [
    "arg_n = np.arange(-10,11, 1)\n",
    "data3 = np.cos((np.pi * arg_n)/5)\n",
    "data4 = (data1 - data2) * data3"
   ]
  },
  {
   "cell_type": "code",
   "execution_count": null,
   "metadata": {},
   "outputs": [],
   "source": [
    "typ = 'e)'\n",
    "dsv1.plot_signal(data=data4, sig_typ=typ)"
   ]
  }
 ],
 "metadata": {
  "kernelspec": {
   "display_name": "Python 3",
   "language": "python",
   "name": "python3"
  },
  "language_info": {
   "codemirror_mode": {
    "name": "ipython",
    "version": 3
   },
   "file_extension": ".py",
   "mimetype": "text/x-python",
   "name": "python",
   "nbconvert_exporter": "python",
   "pygments_lexer": "ipython3",
   "version": "3.6.5"
  }
 },
 "nbformat": 4,
 "nbformat_minor": 1
}
