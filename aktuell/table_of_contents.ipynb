{
 "cells": [
  {
   "cell_type": "markdown",
   "metadata": {},
   "source": [
    "<center><h1>Digitale Signalverarbeitung (Fernstudium)</h1></center>\n",
    "<p>\n",
    " <p>\n",
    "\n",
    "## Inhaltsverzeichnis\n",
    "\n",
    "[**1 Einführung**](einfuehrung.ipynb)\n",
    "\n",
    "[**2 Signale**](signale.ipynb)\n",
    "\n",
    "[**2.4 Veranschaulichung von Signalen**](signale-demo.ipynb)\n",
    "\n",
    "[**3 Signalverarbeitende Systeme**](systeme.ipynb)\n",
    "\n",
    "[**4 Transformation und Faltung**](trans_falt.ipynb)\n",
    "\n",
    "[**5 Diskrete Signale im Zeitbereich**](time_domain.ipynb)\n",
    "\n",
    "[**6 Diskrete Signale im Bildbereich **](frequency_domain.ipynb)\n",
    "\n",
    "[**7 Aufgaben**](aufgaben.ipynb)"
   ]
  },
  {
   "cell_type": "code",
   "execution_count": null,
   "metadata": {
    "collapsed": true
   },
   "outputs": [],
   "source": []
  }
 ],
 "metadata": {
  "kernelspec": {
   "display_name": "Python 3",
   "language": "python",
   "name": "python3"
  },
  "language_info": {
   "codemirror_mode": {
    "name": "ipython",
    "version": 3
   },
   "file_extension": ".py",
   "mimetype": "text/x-python",
   "name": "python",
   "nbconvert_exporter": "python",
   "pygments_lexer": "ipython3",
   "version": "3.6.3"
  }
 },
 "nbformat": 4,
 "nbformat_minor": 1
}
