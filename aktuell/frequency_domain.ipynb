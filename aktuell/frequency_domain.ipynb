{
 "cells": [
  {
   "cell_type": "code",
   "execution_count": null,
   "metadata": {
    "collapsed": true
   },
   "outputs": [],
   "source": [
    "%matplotlib\n",
    "%pylab inline\n",
    "import numpy as np\n",
    "import matplotlib.pyplot as plt\n",
    "import sources.stochsig as st"
   ]
  },
  {
   "cell_type": "markdown",
   "metadata": {},
   "source": [
    "## 6 Diskrete Signale im Bildbereich\n",
    "### 6.1 Berechnung der DFT mittels FFT\n",
    "\n",
    "### 6.2 Wichtige Eigenschaften der DFT/FFT"
   ]
  },
  {
   "cell_type": "markdown",
   "metadata": {},
   "source": [
    "### 6.3 Leakage und Fensterung\n",
    "<img src = \"image/leakage_4.jpg\" width = \"600\">\n",
    "<img src = \"image/leakage_5.jpg\" width = \"600\">\n",
    "---\n",
    "<img src = \"image/leakage_1.jpg\" width = \"700\">\n",
    "---\n",
    "<img src = \"image/leakage_2.jpg\" width = \"700\">\n",
    "---\n",
    "<img src = \"image/leakage_3.jpg\" width = \"700\">"
   ]
  },
  {
   "cell_type": "markdown",
   "metadata": {},
   "source": [
    "### 6.4 z-Transformation\n",
    "#### 6.4.1 Vorüberlegungen\n",
    "#### 6.4.2 Veranschaulichung der z-Transformierten\n",
    "<img src = \"image/ztrans_1-1.jpg\" width = \"600\">\n",
    "<img src = \"image/ztrans_2.jpg\" width = \"600\">"
   ]
  },
  {
   "cell_type": "markdown",
   "metadata": {},
   "source": [
    "#### 6.4.3 Fouriertransformation, Laplacetransformation, z-Transformation\n",
    "<img src = \"image/komplexe_ebene.jpg\" width = \"600\">\n",
    "<img src = \"image/z_ebene.jpg\">"
   ]
  },
  {
   "cell_type": "markdown",
   "metadata": {},
   "source": [
    "#### 6.4.4 Eigenschaften der z-Transformation\n",
    "#### 6.4.5 Differenzengleichung und Übertragungsfunktion\n",
    "#### 6.4.6 Inverse z-Transformierte\n",
    "#### 6.4.7 Anwendungsbeispiele zur z-Transformation\n",
    "#### 6.4.8 Übertragungsfunktion und Frequenzgang\n",
    "<img src = \"image/z_trans1.jpg\" width = \"500\">\n",
    "<img src = \"image/z_trans2.jpg\" width = \"600\">\n",
    "<img src = \"image/8_6_1_pndiagr.jpg\" width = \"500\">\n",
    "<img src = \"image/z_trans3.jpg\" width = \"600\">"
   ]
  }
 ],
 "metadata": {
  "kernelspec": {
   "display_name": "Python 3",
   "language": "python",
   "name": "python3"
  },
  "language_info": {
   "codemirror_mode": {
    "name": "ipython",
    "version": 3
   },
   "file_extension": ".py",
   "mimetype": "text/x-python",
   "name": "python",
   "nbconvert_exporter": "python",
   "pygments_lexer": "ipython3",
   "version": "3.6.3"
  }
 },
 "nbformat": 4,
 "nbformat_minor": 1
}
