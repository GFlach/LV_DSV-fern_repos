{
 "cells": [
  {
   "cell_type": "markdown",
   "metadata": {},
   "source": [
    "[Table of Contents](table_of_contents.ipynb)"
   ]
  },
  {
   "cell_type": "markdown",
   "metadata": {},
   "source": [
    "## 7 Aufgaben\n",
    "\n",
    "#### Aufgabe 1\n",
    "Stellen Sie die folgenden Signale für $-10 \\le n \\le 10$ graphisch dar und geben Sie jeweils $\\left\\{x(n)\\right\\}$ als Folge und die Bildungsvorschrift der Folge an!\n"
   ]
  },
  {
   "cell_type": "markdown",
   "metadata": {
    "collapsed": true
   },
   "source": [
    "a) $\\left\\{x(n)\\right\\}=\\left\\{s(n)\\right\\}+\\left\\{r(n)\\right\\}$\n",
    "\n",
    "b) $\\left\\{x(n)\\right\\}=2\\left\\{s(n)\\right\\}-\\left\\{s(n-2)\\right\\}-\\left\\{s(n-4)\\right\\}$\n",
    "\n",
    "c) $\\left\\{x(n)\\right\\}=\\left\\{s(n)2^n\\right\\}$\n",
    "\n",
    "d) $\\left\\{x(n)\\right\\}=\\left\\{δ(n-2) 2^n\\right\\}$\n",
    "\n",
    "e) $\\left\\{x(n)\\right\\}=\\left\\{s(n)-s(n-10)\\right\\}\\left\\{cos(π/5 n)\\right\\}$"
   ]
  },
  {
   "cell_type": "markdown",
   "metadata": {},
   "source": [
    "[Lösung](loesung_a1.ipynb)"
   ]
  },
  {
   "cell_type": "markdown",
   "metadata": {},
   "source": [
    "#### Aufgabe 2\n",
    "Untersuchen Sie die folgenden Signale auf vorhandene Periodizität. Falls das jeweilige Signal periodisch ist, geben Sie seine Periode an. "
   ]
  },
  {
   "cell_type": "markdown",
   "metadata": {},
   "source": [
    "a) $\\left\\{x(n)\\right\\}= \\left\\{e^{j(πn/6)}\\right\\}$\n",
    "\n",
    "b) $\\left\\{x(n)\\right\\}= \\left\\{e^{j(3πn/4)}\\right\\}$\n",
    "\n",
    "c) $\\left\\{x(n)\\right\\}= \\left\\{sin(πn/5)/(πn)\\right\\}$\n",
    "\n",
    "d) $\\left\\{x(n)\\right\\}= \\left\\{e^{jπn/√2}\\right\\}$"
   ]
  },
  {
   "cell_type": "markdown",
   "metadata": {},
   "source": [
    "[Lösung](loesung_a2.ipynb)"
   ]
  }
 ],
 "metadata": {
  "kernelspec": {
   "display_name": "Python 3",
   "language": "python",
   "name": "python3"
  },
  "language_info": {
   "codemirror_mode": {
    "name": "ipython",
    "version": 3
   },
   "file_extension": ".py",
   "mimetype": "text/x-python",
   "name": "python",
   "nbconvert_exporter": "python",
   "pygments_lexer": "ipython3",
   "version": "3.6.0"
  }
 },
 "nbformat": 4,
 "nbformat_minor": 0
}
