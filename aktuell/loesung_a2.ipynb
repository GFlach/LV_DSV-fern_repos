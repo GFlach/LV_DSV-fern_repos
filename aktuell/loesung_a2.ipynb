{
 "cells": [
  {
   "cell_type": "code",
   "execution_count": null,
   "metadata": {},
   "outputs": [],
   "source": [
    "%matplotlib\n",
    "%pylab inline\n",
    "import numpy as np\n",
    "import matplotlib.pyplot as plt"
   ]
  },
  {
   "cell_type": "code",
   "execution_count": null,
   "metadata": {},
   "outputs": [],
   "source": [
    "import sources.uebung.dsv1 as dsv1\n",
    "import sources.dsvorg as do\n",
    "import sources.dac as dac\n",
    "import sources.bsfilter as bsfilter\n",
    "import sources.classes.signal as sig\n",
    "import sources.stochsig as st"
   ]
  },
  {
   "cell_type": "markdown",
   "metadata": {},
   "source": [
    "#### Aufgabe 2\n",
    "Untersuchen Sie die folgenden Signale auf vorhandene Periodizität. Falls das jeweilige Signal periodisch ist, geben Sie seine Periode an. "
   ]
  },
  {
   "cell_type": "markdown",
   "metadata": {
    "collapsed": true
   },
   "source": [
    "a) $\\left\\{x(n)\\right\\}= \\left\\{e^{j\\frac{n \\pi}{6}}\\right\\}$\n",
    "\n",
    "b) $\\left\\{x(n)\\right\\}= \\left\\{e^{j\\frac{3 \\pi n}{4}}\\right\\}$\n",
    "\n",
    "c) $\\left\\{x(n)\\right\\}= \\left\\{\\frac{sin(\\frac{\\pi n}{5})}{\\pi n}\\right\\}$\n",
    "\n",
    "d) $\\left\\{x(n)\\right\\}= \\left\\{e^{j\\frac{\\pi n}{\\sqrt{2}}}\\right\\}$"
   ]
  },
  {
   "cell_type": "markdown",
   "metadata": {},
   "source": [
    "#### Lösung\n",
    "\n",
    "a) $\\left\\{x(n)\\right\\}= \\left\\{e^{j\\frac{n \\pi}{6}}\\right\\}$\n",
    "\n",
    "$n\\frac{\\pi}{6} = k \\cdot 2\\pi$ damit $k = \\frac{n}{12} \\rightarrow n = 12 $ für $k = 1$"
   ]
  },
  {
   "cell_type": "code",
   "execution_count": null,
   "metadata": {},
   "outputs": [],
   "source": [
    "arg_n = np.arange(-10,11, 1)\n",
    "data_real = np.cos(np.pi/6*arg_n)\n",
    "data_imag = np.sin(np.pi/6*arg_n)\n",
    "data = np.sqrt(data_real**2 + data_imag**2)\n",
    "typ = 'a) - Betrag'\n",
    "dsv1.plot_signal(data=data, sig_typ=typ)"
   ]
  },
  {
   "cell_type": "code",
   "execution_count": null,
   "metadata": {},
   "outputs": [],
   "source": [
    "phase = np.arctan(data_imag/data_real)\n",
    "typ = 'a) - Phase'\n",
    "dsv1.plot_signal(data=phase, sig_typ=typ)"
   ]
  },
  {
   "cell_type": "markdown",
   "metadata": {},
   "source": [
    "b) $\\left\\{x(n)\\right\\}= \\left\\{e^{j\\frac{3 \\pi n}{4}}\\right\\}$\n",
    "\n",
    "$n\\frac{3\\pi}{4} = k \\cdot 2\\pi$ damit $k = \\frac{3n}{8} \\rightarrow n = 8 $ für $k = 3$"
   ]
  },
  {
   "cell_type": "code",
   "execution_count": null,
   "metadata": {},
   "outputs": [],
   "source": [
    "arg_n = np.arange(-10,11, 1)\n",
    "data_real = np.round(np.cos(np.pi*0.75*arg_n),2)\n",
    "data_imag = np.round(np.sin(np.pi*0.75*arg_n),2)\n",
    "data = data_real + 1j * data_imag\n",
    "typ = 'b) - Betrag'\n",
    "dsv1.plot_signal(data=np.abs(data), sig_typ=typ)"
   ]
  },
  {
   "cell_type": "code",
   "execution_count": null,
   "metadata": {},
   "outputs": [],
   "source": [
    "typ = 'b) - Phase'\n",
    "dsv1.plot_signal(data=np.angle(data), sig_typ=typ)"
   ]
  },
  {
   "cell_type": "markdown",
   "metadata": {},
   "source": [
    "c) $\\left\\{x(n)\\right\\}= \\left\\{\\frac{sin(\\frac{\\pi n}{5})}{\\pi n}\\right\\}$\n",
    "\n",
    "nicht periodisch, da mit $n$ abnehmende Funktionswerte"
   ]
  },
  {
   "cell_type": "code",
   "execution_count": null,
   "metadata": {},
   "outputs": [],
   "source": [
    "arg_n = np.arange(-10,11, 1)\n",
    "arg_n[10] = 1\n",
    "data = np.sin((np.pi * arg_n)/5)/(np.pi * arg_n)\n",
    "data[10] = 1/np.pi\n",
    "typ = 'c)'\n",
    "dsv1.plot_signal(data=data, sig_typ=typ)"
   ]
  },
  {
   "cell_type": "markdown",
   "metadata": {},
   "source": [
    "d) $\\left\\{x(n)\\right\\}= \\left\\{e^{j\\frac{\\pi n}{\\sqrt{2}}}\\right\\}$\n",
    "\n",
    "$n\\frac{\\pi}{\\sqrt{2}} = k \\cdot 2\\pi$ damit $k = \\frac{n}{2\\sqrt{2}} \\rightarrow $ kein ganzzahliger Faktor für k\n",
    "\n",
    "$\\rightarrow$ nicht periodisch"
   ]
  },
  {
   "cell_type": "code",
   "execution_count": null,
   "metadata": {},
   "outputs": [],
   "source": [
    "arg_n = np.arange(-10,11, 1)\n",
    "data_real = np.cos(np.pi*arg_n/np.sqrt(2))\n",
    "data_imag = np.sin(np.pi*arg_n/np.sqrt(2))\n",
    "data = data_real + 1j * data_imag\n",
    "typ = 'd) - Betrag'\n",
    "dsv1.plot_signal(data=np.abs(data), sig_typ=typ)"
   ]
  },
  {
   "cell_type": "code",
   "execution_count": null,
   "metadata": {},
   "outputs": [],
   "source": [
    "typ = 'd) - Phase'\n",
    "dsv1.plot_signal(data=np.angle(data), sig_typ=typ)"
   ]
  }
 ],
 "metadata": {
  "kernelspec": {
   "display_name": "Python 3",
   "language": "python",
   "name": "python3"
  },
  "language_info": {
   "codemirror_mode": {
    "name": "ipython",
    "version": 3
   },
   "file_extension": ".py",
   "mimetype": "text/x-python",
   "name": "python",
   "nbconvert_exporter": "python",
   "pygments_lexer": "ipython3",
   "version": "3.6.5"
  }
 },
 "nbformat": 4,
 "nbformat_minor": 1
}
