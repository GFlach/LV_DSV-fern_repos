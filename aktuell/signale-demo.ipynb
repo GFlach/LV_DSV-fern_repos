{
 "cells": [
  {
   "cell_type": "markdown",
   "metadata": {},
   "source": [
    "[Table of Contents](table_of_contents.ipynb)"
   ]
  },
  {
   "cell_type": "code",
   "execution_count": null,
   "metadata": {},
   "outputs": [],
   "source": [
    "%matplotlib\n",
    "%pylab inline\n",
    "import numpy as np\n",
    "import matplotlib.pyplot as plt"
   ]
  },
  {
   "cell_type": "code",
   "execution_count": null,
   "metadata": {
    "collapsed": true
   },
   "outputs": [],
   "source": [
    "import sources.uebung.dsv1 as dsv1\n",
    "import sources.dsvorg as do\n",
    "import sources.dac as dac\n",
    "import sources.bsfilter as bsfilter\n",
    "import sources.classes.signal as sig\n",
    "import sources.stochsig as st"
   ]
  },
  {
   "cell_type": "markdown",
   "metadata": {
    "collapsed": true
   },
   "source": [
    "### 2.4 Veranschaulichung von Signalen\n",
    "#### 2.4.1 Veranschaulichung deterministischer Signale"
   ]
  },
  {
   "cell_type": "markdown",
   "metadata": {},
   "source": [
    "Im Folgenden können die beschriebenen Signale mit unterschiedlichen Parametern getestet werden. Es werden die Realisierungen von $ -10 \\leq n \\leq 10 $ dargestellt. Verschiebungs- und Formparameter können in den Eingabezellen verändert werden.\n",
    "\n",
    "Mit der Anweisung `print(Funktionsname.__doc__)` kann die Hilfe der Funktion aufgerufen werden (siehe nachfolgendes Beispiel)."
   ]
  },
  {
   "cell_type": "code",
   "execution_count": null,
   "metadata": {
    "collapsed": true
   },
   "outputs": [],
   "source": [
    "print(dsv1.gauss.__doc__)"
   ]
  },
  {
   "cell_type": "markdown",
   "metadata": {},
   "source": [
    "#### Sprungfunktion"
   ]
  },
  {
   "cell_type": "markdown",
   "metadata": {
    "collapsed": true
   },
   "source": [
    "#### <font color=\"#FF0000\">Eingabezelle</font>"
   ]
  },
  {
   "cell_type": "code",
   "execution_count": null,
   "metadata": {
    "collapsed": true
   },
   "outputs": [],
   "source": [
    "shift = 5\n",
    "abs_n = 10\n",
    "weight = 1\n",
    "mirr = False"
   ]
  },
  {
   "cell_type": "code",
   "execution_count": null,
   "metadata": {
    "collapsed": true
   },
   "outputs": [],
   "source": [
    "data1, typ = dsv1.sprung(shift=shift, abs_n = abs_n, weight = weight, mirr = mirr)\n",
    "dsv1.plot_signal(data=data1, sig_typ=typ)"
   ]
  },
  {
   "cell_type": "markdown",
   "metadata": {},
   "source": [
    "#### Rampenfunktion"
   ]
  },
  {
   "cell_type": "markdown",
   "metadata": {
    "collapsed": true
   },
   "source": [
    "#### <font color=\"#FF0000\">Eingabezelle</font>"
   ]
  },
  {
   "cell_type": "code",
   "execution_count": null,
   "metadata": {
    "collapsed": true
   },
   "outputs": [],
   "source": [
    "shift = 0\n",
    "abs_n = 10\n",
    "weight = 0.5\n",
    "mirr = False"
   ]
  },
  {
   "cell_type": "code",
   "execution_count": null,
   "metadata": {
    "collapsed": true
   },
   "outputs": [],
   "source": [
    "data2, typ = dsv1.rampe(shift=shift, abs_n = abs_n, weight = weight, mirr = mirr)\n",
    "dsv1.plot_signal(data=data2, sig_typ=typ)"
   ]
  },
  {
   "cell_type": "code",
   "execution_count": null,
   "metadata": {
    "collapsed": true
   },
   "outputs": [],
   "source": [
    "data3 = data1 * data2\n",
    "dsv1.plot_signal(data=data3, sig_typ='kombi')"
   ]
  },
  {
   "cell_type": "markdown",
   "metadata": {},
   "source": [
    "#### Exponentialfunktion\n",
    "Über `type` (=1,2) kann die einseitige und zweiseitige Exponentialfunktion realisiert werden."
   ]
  },
  {
   "cell_type": "markdown",
   "metadata": {
    "collapsed": true
   },
   "source": [
    "#### <font color=\"#FF0000\">Eingabezelle</font>"
   ]
  },
  {
   "cell_type": "code",
   "execution_count": null,
   "metadata": {
    "collapsed": true
   },
   "outputs": [],
   "source": [
    "type = 1\n",
    "a = 0.5\n",
    "abs_n = 10\n",
    "weight = 1\n",
    "mirr = True"
   ]
  },
  {
   "cell_type": "code",
   "execution_count": null,
   "metadata": {
    "collapsed": true
   },
   "outputs": [],
   "source": [
    "data, typ = dsv1.exponent(type=type, a=a, abs_n = abs_n, weight = weight, mirr = mirr)\n",
    "dsv1.plot_signal(data=data, sig_typ=typ)"
   ]
  },
  {
   "cell_type": "markdown",
   "metadata": {},
   "source": [
    "#### Gaußfunktion"
   ]
  },
  {
   "cell_type": "markdown",
   "metadata": {
    "collapsed": true
   },
   "source": [
    "#### <font color=\"#FF0000\">Eingabezelle</font>"
   ]
  },
  {
   "cell_type": "code",
   "execution_count": null,
   "metadata": {
    "collapsed": true
   },
   "outputs": [],
   "source": [
    "abs_n = 10\n",
    "a = -0.1\n",
    "weight = 10"
   ]
  },
  {
   "cell_type": "code",
   "execution_count": null,
   "metadata": {
    "collapsed": true
   },
   "outputs": [],
   "source": [
    "data, typ = dsv1.gauss(abs_n=abs_n, a=a, weight=weight)\n",
    "dsv1.plot_signal(data=data, sig_typ=typ)"
   ]
  },
  {
   "cell_type": "markdown",
   "metadata": {},
   "source": [
    "#### Impulsfolge"
   ]
  },
  {
   "cell_type": "markdown",
   "metadata": {
    "collapsed": true
   },
   "source": [
    "#### <font color=\"#FF0000\">Eingabezelle</font>"
   ]
  },
  {
   "cell_type": "code",
   "execution_count": null,
   "metadata": {
    "collapsed": true
   },
   "outputs": [],
   "source": [
    "abs_n = 10\n",
    "periode = 4\n",
    "weight = 1"
   ]
  },
  {
   "cell_type": "code",
   "execution_count": null,
   "metadata": {
    "collapsed": true
   },
   "outputs": [],
   "source": [
    "data, typ = dsv1.impulsfolge(abs_n=abs_n, periode=periode, weight=weight)\n",
    "dsv1.plot_signal(data=data, sig_typ=typ)"
   ]
  },
  {
   "cell_type": "markdown",
   "metadata": {},
   "source": [
    "#### einfachstes oszillierendes Signal"
   ]
  },
  {
   "cell_type": "markdown",
   "metadata": {
    "collapsed": true
   },
   "source": [
    "#### <font color=\"#FF0000\">Eingabezelle</font>"
   ]
  },
  {
   "cell_type": "code",
   "execution_count": null,
   "metadata": {
    "collapsed": true
   },
   "outputs": [],
   "source": [
    "abs_n = 10\n",
    "weight = 1"
   ]
  },
  {
   "cell_type": "code",
   "execution_count": null,
   "metadata": {
    "collapsed": true
   },
   "outputs": [],
   "source": [
    "data, typ = dsv1.oszi_simple(abs_n=abs_n, weight=weight)\n",
    "dsv1.plot_signal(data=data, sig_typ=typ)"
   ]
  },
  {
   "cell_type": "markdown",
   "metadata": {},
   "source": [
    "#### komplexe Exponentialschwingung"
   ]
  },
  {
   "cell_type": "markdown",
   "metadata": {
    "collapsed": true
   },
   "source": [
    "#### <font color=\"#FF0000\">Eingabezelle</font>"
   ]
  },
  {
   "cell_type": "code",
   "execution_count": null,
   "metadata": {
    "collapsed": true
   },
   "outputs": [],
   "source": [
    "abs_n = 10\n",
    "pd = 8\n",
    "weight = 1\n",
    "mirr = False"
   ]
  },
  {
   "cell_type": "code",
   "execution_count": null,
   "metadata": {
    "collapsed": true
   },
   "outputs": [],
   "source": [
    "data, typ = dsv1.exp_oszi(abs_n=abs_n, pd=pd, weight=weight, mirr=mirr)\n",
    "data1 = np.real(data)\n",
    "dsv1.plot_signal(data=data1, sig_typ=typ)"
   ]
  },
  {
   "cell_type": "markdown",
   "metadata": {
    "collapsed": true
   },
   "source": [
    "#### 2.4.2 Veranschaulichung von Kenngrößen stochastischer Signale\n",
    "In den folgenden Zellen können die Kenngrößen stochastischer Signale veranschaulicht werden. Dazu werden zunächst 3 Zufallssignale X, Y, Z mit vorgebbarer Anzahl von Beobachtungen erzeugt."
   ]
  },
  {
   "cell_type": "markdown",
   "metadata": {
    "collapsed": true
   },
   "source": [
    "#### <font color=\"#FF0000\">Eingabezelle</font>"
   ]
  },
  {
   "cell_type": "code",
   "execution_count": null,
   "metadata": {
    "collapsed": true
   },
   "outputs": [],
   "source": [
    "# Anzahl der Beobachtungen:\n",
    "NX = 10\n",
    "NY = 10\n",
    "NZ = 10"
   ]
  },
  {
   "cell_type": "code",
   "execution_count": null,
   "metadata": {
    "collapsed": true
   },
   "outputs": [],
   "source": [
    "X,Y,Z = st.generate_signals(nx = NX, ny = NY, nz = NZ)\n",
    "st.show_signals(X,Y,Z)\n",
    "st.show_histograms(X,Y,Z)"
   ]
  }
 ],
 "metadata": {
  "kernelspec": {
   "display_name": "Python 3",
   "language": "python",
   "name": "python3"
  },
  "language_info": {
   "codemirror_mode": {
    "name": "ipython",
    "version": 3
   },
   "file_extension": ".py",
   "mimetype": "text/x-python",
   "name": "python",
   "nbconvert_exporter": "python",
   "pygments_lexer": "ipython3",
   "version": "3.6.3"
  }
 },
 "nbformat": 4,
 "nbformat_minor": 1
}
