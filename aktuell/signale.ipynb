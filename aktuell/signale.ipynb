{
 "cells": [
  {
   "cell_type": "markdown",
   "metadata": {},
   "source": [
    "[Table of Contents](table_of_contents.ipynb)"
   ]
  },
  {
   "cell_type": "markdown",
   "metadata": {},
   "source": [
    "## 2 Signale\n",
    "In der Realität sind wir mit unterschiedlichsten Formen von Signalen konfrontiert, z. B. mechanische Schwingungen von Gebäuden, Stäben und Platten. In der Akustik finden wir Verkehrslärm, Windgeräusche, Musikinstrumente, Gesang und die  menschliche Sprache. Bei akustischen Systemen beobachten wir Rückkopplungs- und Filtereffekte. In der Elektrotechnik können Strom und Spannung am komplexen Widerstand oder die Vierpolparameter Signalcharakter haben. Alle diese Signale sind zunächst nicht durch einen analytischen Ausdruck beschreibbar. Wie schon erwähnt, wollen wir durch Anwendung spezieller (mathematischer) Methoden versuchen, den Informationsgehalt der Signale zu extrahieren oder zu verändern. Dazu ist zunächst eine Klassifikation von Signalen erforderlich."
   ]
  },
  {
   "cell_type": "markdown",
   "metadata": {},
   "source": [
    "### 2.1 Klassifizierung von Signalen\n",
    "Signale können in folgende Gruppen eingeteilt werden:\n",
    "<img src=\"image/signalklassen.jpg\" height=\"200\" width=\"400\">\n",
    "Die folgenden Aussagen werden jeweils für Zeitsignale gemacht. Analoge Aussagen gelten auch für andere Signalqualitäten (z. B. Bildsignale)."
   ]
  },
  {
   "cell_type": "markdown",
   "metadata": {},
   "source": [
    "#### 2.1.1 Deterministische und stochastische Signale\n",
    "Deterministische Signale können durch eine Funktion $ x(t) $ beschrieben werden, damit ist ihr Verlauf für jeden Zeitpunkt $ t $ bekannt. Für ein stochastisches oder Zufallssignal ist der Signalverlauf nicht vollständig in mathematischer Form beschreibbar.\n",
    "\n",
    "Informationstragende Signale sind stets stochastische Signale. Für ihre Beschreibung sind geeignete Kenngrößen zu finden.\n",
    "Deterministische Signale haben eine große Bedeutung für die Signalverarbeitung und Systemtheorie als Test-, Träger-,  Abtast-  und Rekonstruktionssignale."
   ]
  },
  {
   "cell_type": "markdown",
   "metadata": {
    "collapsed": true
   },
   "source": [
    "#### 2.1.2 Kausale und nichtkausale Signale\n",
    "Der Einteilung in diese Signalklassen liegt folgende Überlegung zugrunde:\n",
    "\n",
    "Für die mathematische Behandlung eines Sachverhaltes ist oft die Betrachtung über einen unendlich langen Zeitraum ($ -\\infty < t < \\infty $) geeignet. In der Realität muss jedoch ein Signal zu einem definierten Zeitpunkt eingeschaltet worden  sein. Legt man diesen Zeitpunkt auf t = 0, kann man die Klasse der kausalen und nichtkausalen Signale einführen.\n",
    "Für ein kausales Signal gilt: $ x(t)= 0 $ für $ t < 0 $. Signale für die das nicht gilt, sind nichtkausal."
   ]
  },
  {
   "cell_type": "markdown",
   "metadata": {
    "collapsed": true
   },
   "source": [
    "#### 2.1.3 Energie- und Leistungssignale\n",
    "Neben dem Zeitverlauf $ x(t) $ eines Signals sind auch seine Energie und seine Leistung wichtige Beschreibungsgrößen.\n",
    "\n",
    "\n",
    "$$ E_{x} = \\underset{T_{M}\\rightarrow\\infty}{lim} \\int^{T_{M}/2}_{-T_{M}/2} x^{2}(t) dt $$\n",
    "\n",
    "\n",
    "Das Signal wird dabei in dem zu $ t=0 $ symmetrischen Intervall $ T_{M}$ betrachtet. Dieses Intervall sollte möglichst groß sein ($ T_{M} \\rightarrow \\infty $).\n",
    "\n",
    "Die Signalleistung ergibt sich aus der Energie bezogen auf das Messintervall:\n",
    "\n",
    "$$ P_{x} = \\underset{T_{M}\\rightarrow\\infty}{lim} \\frac{1}{T_{M}} \\int^{T_{M}/2}_{-T_{M}/2} x^{2}(t) dt $$\n",
    "\n",
    "(Speziell für die Elektrotechnik ist folgendes zu beachten:\n",
    "Wenn $ x(t) $ für eine Spannung bzw. einen Strom steht, ergibt sich sich die Energie bzw. Leistung an einem $ 1 \\Omega $ Widerstand.)\n",
    "Wenn man die angegebenen Berechnungsvorschriften für die Energie und Leistung anwendet, entstehen zwei Signalklassen:\n",
    "1. Die Energie des Signals hat einen endlichen Wert, damit wird die Leistung gleich null. \n",
    "2. Die Energie des Signals hat einen unendlichen Wert, damit wird die Leistung endlich.\n",
    "\n",
    "Signale, für die (1) gilt, sind Energiesignale, alle anderen sind Leistungssignale."
   ]
  },
  {
   "cell_type": "markdown",
   "metadata": {
    "collapsed": true
   },
   "source": [
    "#### 2.1.4 Wertkontinuierliche und wertdiskrete Signale\n",
    "Ein Signal ist wertkontinuierlich, wenn $ x(t) $ jeden möglichen Wert annehmen kann. Ein quantisiertes Signal ist wertdiskret, da $ x(t) $ nur noch einen Wert aus N Quantisierungsstufen annehmen kann."
   ]
  },
  {
   "cell_type": "markdown",
   "metadata": {
    "collapsed": true
   },
   "source": [
    "#### 2.1.5 Zeitkontinuierliche und zeitdiskrete Signale\n",
    "Ein Signal ist zeitkontinuierlich, wenn $ x(t) $ für jeden Zeitpunkt $ t $ definiert ist. Ein zeitdiskretes Signal ist nur zu bestimmten Zeitpunkten $ t_{S} $ definiert. Meist werden diese Zeitpunkte äquidistant mit $ t_{S} = n \\cdot T_{S} $ gewählt. $ T_{S} $ bezeichnet das Abtastintervall.\n",
    "\n",
    "Ein zeitdiskretes Signal ist durch eine zeitliche Folge von Abtastwerten, die wertkontinuierlich oder -diskret sein können, vollständig bestimmt. Es gibt zwei Betrachtungsweisen für zeitdiskrete Signale:\n",
    "\n",
    "Das Signal wird entweder durch eine Folge von Impulsen der Länge 0 (Diracimpulse) oder durch eine Folge von Impulsen der Länge $ T_{S} $ repräsentiert."
   ]
  },
  {
   "cell_type": "markdown",
   "metadata": {
    "collapsed": true
   },
   "source": [
    "#### 2.1.6 Analog- und Digitalsignale\n",
    "Die Kombination von Zeit- und Wertkontinuität bzw. von Zeit- und Wertdiskretität führt zum einen zu Analog- und zum anderen zu Digitalsignalen. Die Information eines Digitalsignals besteht aus Elementen eines Symbolinventars. Die Größe dieses Inventars wird durch die Anzahl der Quantisierungsstufen bestimmt."
   ]
  },
  {
   "cell_type": "markdown",
   "metadata": {},
   "source": [
    "![](F:/HTW\\Lehre/_module/DSV/Vorlesung/script_dsv/bilder_jpg/1Hz.jpg) "
   ]
  },
  {
   "cell_type": "markdown",
   "metadata": {
    "collapsed": true
   },
   "source": [
    "### 2.2 Deterministische Signale\n",
    "Wie bereits erwähnt, haben deterministische Signale eine große Bedeutung für die Signalverarbeitung und Systemtheorie. Besonders wichtig sind die Testsignale:\n",
    "* Sprungfunktion\n",
    "* Impulsfunktion\n",
    "* Rampenfunktion\n",
    "* komplexe Exponentialschwingung\n",
    "\n",
    "und die Abtastimpulsfolge für für die Modellierung der Analog-Digital- bzw. Digital-Analog-Wandlung."
   ]
  },
  {
   "cell_type": "markdown",
   "metadata": {},
   "source": [
    "#### 2.2.1 Aperiodische Signale\n",
    "Aperiodische Signale sind dadurch gekennzeichnet, dass es in ihrem Verlauf keine Wiederholungen gibt. Im Rahmen der LV Digitale Signalverarbeitung benötigen wir die im Folgenden beschriebenen Signale. Hier werden die Definitionen für digitale Signale angegeben. Dabei wird folgende Notation verwendet:\n",
    "\n",
    "$ x(n) $ beschreibt den n-ten Abtastwert \n",
    "\n",
    "$ \\left\\{x(n)\\right\\} $ beschreibt die Abtastwertefolge\n",
    "\n",
    "Wenn statt Abtastzeitpunkten Abtastwertenummern verwendet werden, ist zur Interpretation stets die Abtastfrequenz erforderlich.\n",
    "\n",
    "* Sprungfunktion\n",
    "\n",
    "$ \\left\\{ x\\left(n\\right)\\right\\} =\\left\\{ \\sigma\\left(n\\right)\\right\\} =\\begin{cases}\n",
    "1 & n\\geq0\\\\\n",
    "0 & n<0\n",
    "\\end{cases} $\n",
    "* Rampenfunktion\n",
    "\n",
    "$ \\left\\{ x\\left(n\\right)\\right\\} =\\left\\{ r\\left(n\\right)\\right\\} =\\begin{cases}\n",
    "n & n\\geq0\\\\\n",
    "0 & n<0\n",
    "\\end{cases} $\n",
    "* Einsimpuls\n",
    "\n",
    "$ \\left\\{ x\\left(n\\right)\\right\\} =\\left\\{ \\delta\\left(n\\right)\\right\\} =\\begin{cases}\n",
    "1 & n=0\\\\\n",
    "0 & n \\neq 0\n",
    "\\end{cases} $\n",
    "* Exponentialfunktion\n",
    "\n",
    "$ \\left\\{x\\left(n\\right)\\right\\}=\\begin{cases}\n",
    "a^{n} & n\\geq0\\\\\n",
    "0 & n<0\n",
    "\\end{cases} $\n",
    "* zweiseitige Exponentialfunktion\n",
    "\n",
    "$ \\left\\{x\\left(n\\right)\\right\\}=\\left\\{a^{\\left|n\\right|}\\right\\} $\n",
    "\n",
    "Fallunterscheidung für a:\n",
    "\n",
    "| Wert von a | Verhalten des Exponentialsignals |\n",
    "| ------------- | ------------- |\n",
    "| $a=1$ | Sprungfunktion |\n",
    "| $\\left|a\\right|>1$ | wachsende Amplituden |\n",
    "| $\\left|a\\right|<1$ | gedämpfte Amplituden |\n",
    "| $a<0$ | oszillierendes Verhalten |\n",
    "\n",
    "* Gaußimpuls \n",
    "\n",
    "$ \\left\\{x\\left(n\\right)\\right\\}=\\left\\{e^{-a \\cdot n^2}\\right\\} $\n",
    "\n",
    "Die hier aufgeführten Signale können \n",
    "* mit einem Faktor multipliziert\n",
    "* auf der x-Achse(Zeit bzw. Abtastwertnummer) verschoben und gestaucht/gestreckt \n",
    "* an den Achsen gespiegelt\n",
    "\n",
    "werden. Diese Operationen sind für spezielle Signalverarbeitungsfunktionen von Bedeutung."
   ]
  },
  {
   "cell_type": "markdown",
   "metadata": {},
   "source": [
    "#### 2.2.2 Periodische Signale\n",
    "Periodische Signale sind dadurch gekennzeichnet, dass sich Werte $x(n)$ nach einer bestimmten Zeit oder Abtastwerteanzahl (Periodendauer) unendlich oft wiederholen.\n",
    "\n",
    "$ x\\left(n\\right)=x\\left(n+mN\\right)\\; mit\\;\\begin{cases}\n",
    "N\\mathbb{\\in N} & Periodendauer\\\\\n",
    "m\\in\\mathbb{Z}\n",
    "\\end{cases}\n",
    "$\n",
    "\n",
    "Die folgenden Beispiele stellen wichtige Signale für die Digitale Signalverarbeitung dar.\n",
    "\n",
    "* Einsimpulsfolge\n",
    "\n",
    "$\\left\\{x\\left(n\\right)\\right\\}=\\sum_{k=-\\infty}^{\\infty}\\left\\{\\delta\\left(n+kN\\right)\\right\\}=\\begin{cases}\n",
    "1 & n=0,\\pm N,\\pm2N,\\ldots\\\\\n",
    "0 & sonst\n",
    "\\end{cases}\n",
    "$\n",
    "* einfachstes oszillierendes Signal\n",
    "\n",
    "$\\left\\{x\\left(n\\right)\\right\\}=\\left\\{\\left(-1\\right)^{n}\\right\\}=\\left\\{e^{j\\pi n}\\right\\}=\\begin{cases}\n",
    "1 & n=0,\\pm2,\\pm4,\\ldots\\\\\n",
    "-1 & n=\\pm1,\\pm3,\\ldots\n",
    "\\end{cases}$\n",
    "\n",
    "Wie in der Definition ablesbar, ist dieses Signal auch über die e-Funktion und damit über die Eulersche Formel darstellbar. Es werden jedoch nur Winkel betrachtet, die einem ganzzahligen Vielfachen von $ \\pi $ entsprechen. Wird diese Funktion verallgemeinert, d. h. es werden auch  andere Winkel betrachtet ($ \\pi \\rightarrow \\theta_{0} $), entsteht die\n",
    "* komplexe Exponentialschwingung\n",
    "\n",
    "$\\left\\{x\\left(n\\right)\\right\\}=\\left\\{e^{j\\theta_{0}n}\\right\\}=\\left\\{cos\\theta_{0}n+jsin\\theta_{0}n\\right\\}$\n",
    "\n",
    "Es handelt sich hier um ein komplexes (aus Real- und Imaginärteil bestehendes) Signal, das mathematisch sehr gut handhabbar ist. Reelle Cosinus- bzw. Sinusschwingungen sind über das komplexe Exponentialsignal darstellbar. Mit\n",
    "\n",
    "$e^{j\\theta_{0}n}=cos\\theta_{0}n+jsin\\theta_{0}n,\\ e^{-j\\theta_{0}n}=cos\\theta_{0}n-jsin\\theta_{0}n\n",
    "$\n",
    "entsteht\n",
    "\n",
    "$cos\\theta_{0}n=\\frac{1}{2}\\left(e^{j\\theta_{0}n}+e^{-j\\theta_{0}n}\\right)$\n",
    "bzw.\n",
    "\n",
    "$sin\\theta_{0}n=-\\frac{1}{2}j\\left(e^{j\\theta_{0}n}-e^{-j\\theta_{0}n}\\right)$\n",
    "\n",
    "Diese Darstellung ist vorteilhaft, wenn harmonische Schwingungen in Kombination mit Exponentialfunktionen auftreten.\n",
    "\n",
    "$\\left\\{e^{an}x\\left(n\\right)\\right\\}=\\left\\{e^{\\left(a+j\\theta_{0}\\right)n}\\right\\}$\n",
    "\n",
    "Die Periodizität der komplexen Exponentialschwingung soll am Beispiel der Funktion $\\left\\{x\\left(n\\right)\\right\\}=\\left\\{cos(\\theta_{0}n)\\right\\}$ untersucht werden.\n",
    "\n",
    "\n",
    "$\\left\\{cos(\\theta_{0}n)\\right\\}=\\left\\{cos(\\theta_{0}(n+N))\\right\\}=\\left\\{cos(\\theta_{0}n+ \\theta_{0}N)\\right\\}$\n",
    "\n",
    "Da die Cosinusfunktion mit $ 2\\pi $ periodisch ist, ist die diskrete Folge periodisch für $ \\theta_{0} = \\frac{k \\cdot 2 \\pi}{N}$. Die Folgenwerte wiederholen sich nach N Werten."
   ]
  },
  {
   "cell_type": "markdown",
   "metadata": {},
   "source": [
    "#### 2.2.3 Rauschen\n",
    "Rauschen beschreibt ein Signal mit unspezifischem Frequenzspektrum, es ist eine Überlagerung vieler harmonischer Schwingungen unterschiedlicher Frequenz und Amplitude. Rauschen tritt als Störung bei der Signalübertragung auf. Das Rauschsignal wird dabei dem Nutzsignal additiv überlagert. Die Qualität eines Nutzsignals wird über den Signal-Rausch-Abstand (SNR signal noise ratio) beschrieben.\n",
    "<img src=\"image/rauschen.jpg\" height=\"800\" width=\"800\">\n"
   ]
  },
  {
   "cell_type": "markdown",
   "metadata": {
    "collapsed": true
   },
   "source": [
    "### 2.3 Stochastische Signale\n",
    "Stochastische Signale werden durch Zufallsprozesse erzeugt. Sie sind nicht über eine Bildungsvorschrift beschreibbar. Trotzdem können gewisse charakteristische Merkmale ermittelt und zur Signalbeschreibung genutzt werden. Dazu zählen:\n",
    "- Mittelwert und Varianz (gewöhnliches und zentrale Momente)\n",
    "- Korrelation und Kovarianz\n",
    "\n",
    "Diese Größen werden folgendermaßen beschrieben und ermittelt.\n",
    "\n",
    "#### 2.3.1 Mittelwert\n",
    "Der Mittelwert oder Erwartungswert ist der Wert, den die zufällige Größe im Mittel annimmt. Dazu werden N Beobachtungen herangezogen. Der Mittelwert wird auch als gewöhnliches Moment bezeichnet.\n",
    "\n",
    "$m_{X} = E(X) = \\frac{1}{N} \\sum_{i=1}^{N} x_{i} $\n",
    "\n",
    "#### 2.3.2 Varianz und Standardabweichung\n",
    "Die Varianz ist ein Maß für die Abweichung der beobachteten Werte vom Mittelwert. Hier soll die vorliegende Stichprobe der Grundgesamtheit entsprechen.\n",
    "\n",
    "$var(X) = E(X-m_{X}) = \\frac{1}{N} \\sum_{i=1}^{N}(x_{i} - m_{X})^{2}$\n",
    "\n",
    "Die Standardabweichung ist die Wurzel aus der Varianz.\n",
    "\n",
    "$\\sigma_{X} = \\sqrt{var(X)}$\n",
    "\n",
    "Eine Zufallsgröße kann über sogenannte zentrale Momente k-ter Ordnung beschrieben werden.\n",
    "\n",
    "$z_{k}(X) = \\frac{1}{N} \\sum_{i=1}^{N}(x_{i} - m_{X})^{k}$\n",
    "\n",
    "Dabei sind folgende (normalisierte) Momente von besonderer Bedeutung:\n",
    "- $ k = 2 $ : Varianz\n",
    "- $ \\frac{z_{3}(X)}{\\sigma_{X}^{3}} $ : Schiefe (Symmetrie einer Verteilung)\n",
    "- $ \\frac{z_{4}(X)}{\\sigma_{X}^{4}}  $ : Exzess, Kurtosis, Wölbung (spitze oder flache Verteilung)\n"
   ]
  },
  {
   "cell_type": "markdown",
   "metadata": {
    "collapsed": true
   },
   "source": [
    "#### 2.3.3 Korrelation\n",
    "Die Korrelation kann für ein Signal (Autokorrelation) oder zwei unterschiedliche Signale (Kreuzkorrelation) angegeben werden. Dabei wird ein Maß für die Ähnlichkeit bei Verschiebung angegeben.\n",
    "\n",
    "$cor(X,r) = \\frac{1}{N} \\sum_{i=1}^{N}{x_{i} \\cdot x_{i-r}}$\n",
    "\n",
    "$cor(X,Y,r) = \\frac{1}{N} \\sum_{i=1}^{N}{x_{i} \\cdot y_{i-r}}$\n",
    "\n",
    "#### 2.3.4 Kovarianz\n",
    "Die Kovarianz beschreibt das Produkt der Abweichungen zweier Signale von ihren Erwartungswerten.\n",
    "\n",
    "$cov(X,Y) = \\frac{1}{N}\\sum_{i=1}^{N}{(x_{i}- m_{X}) \\cdot (y_{i} - m_{Y}})$\n",
    "\n",
    "#### 2.3.5 Pearsonscher Korrelationskoeffizient\n",
    "Der Zusammenhang zwischen 2 Zufallssignalen kann qualitativ durch den Pearsonschen Korrelationskoeffizienten beschrieben werden. \n",
    "\n",
    "$$ \\rho(X,Y) = \\frac{cov(X,Y)}{\\sqrt{var(X)} \\sqrt{var(Y)}} $$\n",
    "\n",
    "Dabei gilt:\n",
    "\n",
    "- $\\rho = 1$ : $ X = Y $\n",
    "- $\\rho = -1$ : $ X = -Y $\n",
    "- $\\rho = 0$ : kein Zusammenhang zwischen $ X $ und $ Y $\n",
    "\n",
    "Die Kovarianzen und Pearsonschen Korrelationskoeffizienten mehrerer Zufallssignale können in einer Kovarianz- und einer Korrelationsmatrix zusammengefasst werden."
   ]
  }
 ],
 "metadata": {
  "kernelspec": {
   "display_name": "Python 3",
   "language": "python",
   "name": "python3"
  },
  "language_info": {
   "codemirror_mode": {
    "name": "ipython",
    "version": 3
   },
   "file_extension": ".py",
   "mimetype": "text/x-python",
   "name": "python",
   "nbconvert_exporter": "python",
   "pygments_lexer": "ipython3",
   "version": "3.6.0"
  }
 },
 "nbformat": 4,
 "nbformat_minor": 0
}
