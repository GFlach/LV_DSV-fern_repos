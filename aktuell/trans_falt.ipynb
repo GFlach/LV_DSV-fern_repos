{
 "cells": [
  {
   "cell_type": "markdown",
   "metadata": {},
   "source": [
    "[Table of Contents](table_of_contents.ipynb)"
   ]
  },
  {
   "cell_type": "code",
   "execution_count": 1,
   "metadata": {
    "collapsed": false
   },
   "outputs": [
    {
     "name": "stdout",
     "output_type": "stream",
     "text": [
      "Using matplotlib backend: Qt5Agg\n",
      "Populating the interactive namespace from numpy and matplotlib\n"
     ]
    }
   ],
   "source": [
    "%matplotlib\n",
    "%pylab inline\n",
    "import numpy as np\n",
    "import matplotlib.pyplot as plt\n",
    "import dsv.uebung.dsv1 as dsv1\n",
    "import dsv.dsvorg as do\n",
    "from IPython.display import Audio"
   ]
  },
  {
   "cell_type": "code",
   "execution_count": 2,
   "metadata": {
    "collapsed": false
   },
   "outputs": [],
   "source": [
    "import sources.dac as dac\n",
    "import sources.bsfilter as bsfilter\n",
    "import sources.classes.signal as sig"
   ]
  },
  {
   "cell_type": "markdown",
   "metadata": {
    "collapsed": true
   },
   "source": [
    "## 4 Transformation und Faltung\n",
    "Bei der Betrachtung signalverarbeitender Systeme wurden diese im Zeit- und im Frequenzbereich behandelt. In diesm Abschnitt soll der Übergang von einem Beschreibungsbereich in einen anderen (Transformation) für den speziellen Fall der Fouriertransformation dargestellt werden.\n",
    "\n",
    "Signale und Systeme existieren real im Zeitbereich. Für ein Signal können wir im Zeitbereich bestimmte Informationen ermitteln, z. B. die Amplitude, die Nulldurchgangsrate und die Periodizität. Neben diesen Informationen können weitere in einem sogenannten Bildbereich unter Umständen besser ermittelt werden. Ein Zeitsignal kann durch eine Transformation anders dargestellt werden, so dass z. B. der Frequenzgehalt besser ablesbar ist. Dieses Herangehen, durch Transformation bestimmte Eigenschaften besser zu erkennen oder eine Verarbeitung zu vereinfachen, ist in der Mathematik und Ingenieurwissenschaft häufig anzutreffen. Zum Beispiel kann durch eine Transformation in den \"Logarithmusbereich\" eine kompliziertere Multiplikation durch eine Addition realisiert werden, man hat jedoch den Aufwand der Hin- und Rücktransformation, da das Ergebnis meist im realen (Zeit)bereich benötigt wird.\n",
    "\n",
    "Das folgende Beispiel zeigt ein sogenanntes Sweepsignal, dessen Amplitude und Frequenz sich mit der Zeit ändern. In der Eingabezelle können Sie Zeitmarken (in Sekunden) angeben, für die das Signal im Zeibereich gezoomt wird und dazu das Amplitudenspektrum angezeigt wird."
   ]
  },
  {
   "cell_type": "code",
   "execution_count": null,
   "metadata": {
    "collapsed": true
   },
   "outputs": [],
   "source": [
    "sweep = sig.Sweep()\n",
    "sweep.plot()"
   ]
  },
  {
   "cell_type": "code",
   "execution_count": null,
   "metadata": {
    "collapsed": true
   },
   "outputs": [],
   "source": [
    "Audio(data = sweep.Data, rate = sweep.fS)"
   ]
  },
  {
   "cell_type": "markdown",
   "metadata": {},
   "source": [
    "#### <font color=\"#FF0000\">Eingabezelle</font>"
   ]
  },
  {
   "cell_type": "code",
   "execution_count": null,
   "metadata": {
    "collapsed": false
   },
   "outputs": [],
   "source": [
    "t1 = 0\n",
    "t2 = 0.2"
   ]
  },
  {
   "cell_type": "code",
   "execution_count": null,
   "metadata": {
    "collapsed": true
   },
   "outputs": [],
   "source": [
    "sweep.plot_selection(start=t1, stop=t2)\n",
    "sweep.plot_spektrum(start=t1, stop=t2)"
   ]
  },
  {
   "cell_type": "markdown",
   "metadata": {},
   "source": [
    "Die Ergebnisse zeigen deutlichere Änderungen im Spektrum als im Zeitverlauf. Diese Signaldarstellung ist daher von großer Bedeutung in der (digitalen) Signalverarbeitung."
   ]
  },
  {
   "cell_type": "markdown",
   "metadata": {},
   "source": [
    "### 4.1 Fourierreihendarstellung\n",
    "Die Entwicklung von Funktionen in Reihen ist aus der Mathematik bekannt. Speziell können periodische Funktionen durch eine unendliche Summe von harmonischen Funktionen (Fourierreihen) dargestellt werden. Die einzelnen Glieder dieser Reihe kann man sich als immer kleiner werdende Bausteine vorstellen die zur Modellierung eines Kurvenverlaufes zur Verfügung stehen. Der größte Baustein wird durch die Periode der zu modellierenden Funktion dargestellt. Alle weiteren Bausteine entstehen, indem man den größten halbiert, drittelt, viertelt und so weiter. Für die Fourierreihe werden als Bausteine harmonische Schwingungen verwendet, wobei die größte Periodendauer durch die zu modellierende Funktion vorgegeben ist und für jede Harmonische entsprechend verkleinert wird (durch Vervielfachung der Frequenz).\n",
    "\n",
    "Für die Fourierreihendarstellung gibt es drei Formen (2 reelle, 1 komplexe):\n",
    "\n",
    "1. \n",
    "$$x\\left(t\\right)=a_{0}+\\sum_{n=1}^{\\infty}\\left(a_{n}\\cos\\left(2\\pi nf_{0}t\\right)+b_{n}\\sin\\left(2\\pi nf_{0}t\\right)\\right)$$\n",
    "\n",
    "2. \n",
    "$$x\\left(t\\right)=A_{0}+\\sum_{n=1}^{\\infty}\\left(A_{n}\\cos\\left(2\\pi nf_{0}t-\\varphi_{n}\\right)\\right)=A_{0}+\\sum_{n=1}^{\\infty}\\left(A_{n}\\sin\\left(2\\pi nf_{0}t-\\varphi_{n}'\\right)\\right)$$\n",
    "\n",
    "3. \n",
    "$$x\\left(t\\right)=\\underline{c}_{0}+\\sum_{n=1}^{\\infty}\\left(\\underline{c}_{+n}e^{j2\\pi nf_{0}t}+\\underline{c}_{-n}e^{-j2\\pi nf_{0}t}\\right)=\\sum_{n=-\\infty}^{\\infty}\\underline{c}_{n}e^{j2\\pi nf_{0}t}$$"
   ]
  },
  {
   "cell_type": "markdown",
   "metadata": {},
   "source": [
    "Für die weiteren Betrachtungen wird die komplexe Form der Fourierreihe verwendet. Die Koeffizienten $\\underline{c}_{n}$ werden folgendermaßen berechnet:\n",
    "\n",
    "$$\\underline{c}_{n}=\\frac{1}{T_{0}}\\int_{T_{0}}x\\left(t\\right)e^{-j2\\pi nf_{0}t}dt=\\frac{1}{T_{0}}\\int_{T_{0}}x\\left(t\\right)\\left(\\cos2\\pi nf_{0}t-j\\sin2\\pi nf_{0}t\\right)dt$$\n",
    "\n",
    "Wenn $x\\left(t\\right)$ eine symmetrische Funktion ist, gilt:\n",
    "- für gerade Funktionen entfallen die Sinusanteile\n",
    "- für ungerade Funktionen entfallen die Cosinusanteile\n",
    "\n",
    "Die Koeffizienten $\\underline{c}_{n}$ sind komplex. Aus diesen kann durch Berechnung des Betrages das Betrags- oder Amplitudenspektrum und durch Berechnung des Phasenwinkels das Phasenspektrum ermittelt werden. Diese Spektren zeigen für alle Frequenzen den Betrag und den zugehörigen Phasenwinkel. Damit werden unendlich viele harmonische Schwingungen beschrieben, deren Überlagerung die periodische Zeitfunktion $x\\left(t\\right)$ ergibt:\n",
    "\n",
    "$$ x\\left(t\\right)=\\sum_{n=-\\infty}^{\\infty}\\underline{c}_{n}e^{-j2\\pi nf_{0}t}$$\n",
    "\n",
    "Im Folgenden soll die Fourierreihendarstellung für eine periodische Rechteckfunktion ermittelt werden. Die Funktion wird wie folgt definiert:\n",
    "<img src=\"image/fourier1.jpg\" height=\"300\" width=\"300\">\n",
    "Die Periodendauer sei $T_{0}$. Die Funktion hat ein Tastverhältnis von 1:5. Im Intervall $-\\tau/2\\leq t\\leq\\tau/2$ beträgt der Funktionswert 1, außerhalb 0. Es handelt sich um eine gerade Funktion.\n",
    "\n",
    "$$\\underline{c}_{n}=\\frac{1}{T_{0}}\\int_{T_{0}}x\\left(t\\right)\\left(\\cos2\\pi nf_{0}t\\right)dt$$\n",
    "\n",
    "$$\\underline{c}_{n}=\\frac{1}{T_{0}}\\int_{-\\tau/2}^{\\tau/2}1\\left(\\cos2\\pi nf_{0}t\\right)dt$$\n",
    "\n",
    "$$\\underline{c}_{n}=\\frac{1}{T_{0}}\\frac{1}{\\pi nf_{\\text{0}}}sin\\left(\\pi nf_{0}\\tau\\right)$$\n",
    "\n",
    "Mit  $\\frac{sin \\left(x\\right)}{x}=si\\left(x\\right)$ ergibt sich:\n",
    "\n",
    "$$\\underline{c}_{n}=\\frac{2\\tau}{T_{0}}si\\left(\\frac{\\pi n \\tau}{T_{0}}\\right)$$\n",
    "\n",
    "Mit dem Tastverhältnis $\\frac{\\tau}{T_{0}}=\\frac{1}{5}$ ergibt sich:\n",
    "\n",
    "$$\\underline{c}_{n}=\\frac{2}{5}si\\left(\\frac{\\pi n}{5}\\right)$$\n",
    "\n",
    "Für die Berechnung des Betrags- und Phasenspektrums ergibt sich aus:\n",
    "\n",
    "$$\\underline{c}_{n}=|\\underline{c}_{n}| e^{j\\varphi_{n}}=\\frac{2}{5}si\\left(\\frac{\\pi n}{5}\\right)$$\n",
    "\n",
    "das Betragsspektrum:\n",
    "\n",
    "$$|\\underline{c}_{n}|=|\\frac{2}{5}si\\left(\\frac{\\pi n}{5}\\right)|$$ \n",
    "\n",
    "das Phasenspektrum:\n",
    "\n",
    "$$\\varphi_{n}= arccos \\left(sgn \\left( si\\left(\\frac{\\pi n}{5}\\right)\\right) \\right)$$\n",
    "\n",
    "Dieses Ergebnis können Sie in den nachfolgenden Zellen überprüfen. Das Amplitudenspektrum ist auf den Maximalwert normiert. Zum Test können folgende Größen variiert werden:\n",
    "- `ampl`: Amplitude\n",
    "- `tv`: Tastverhältnis ($\\leq 1$)\n",
    "- `vs`: Verschiebung der Funktion auf der Zeitachse (in s, $\\leq 1$)\n",
    "- `offs`: Verschiebung der Funktion auf der y-Achse\n",
    "- `per`: Anzahl der Perioden\n",
    "- `fmax`: Maximalwert der Frequenz im angezeigten Spektrum ($\\leq 499$)\n",
    "\n",
    "Testen Sie unterschiedliche Parameterkonstellationen und machen Sie sich die Wirkung klar."
   ]
  },
  {
   "cell_type": "markdown",
   "metadata": {},
   "source": [
    "#### <font color=\"#FF0000\">Eingabezelle</font>"
   ]
  },
  {
   "cell_type": "code",
   "execution_count": null,
   "metadata": {
    "collapsed": false
   },
   "outputs": [],
   "source": [
    "ampl = 1\n",
    "tv = 1/2\n",
    "vs = 0\n",
    "offs = 0.5\n",
    "per = 1\n",
    "fmax = 20"
   ]
  },
  {
   "cell_type": "code",
   "execution_count": null,
   "metadata": {
    "collapsed": false
   },
   "outputs": [],
   "source": [
    "re = sig.Rechteck(ampl=ampl, tv=tv, vs=vs, offs=offs, per=per)\n",
    "re.spektrum_rechteck()\n",
    "re.plot_rechteck()\n",
    "re.plot_spektrum(fmax=fmax)"
   ]
  },
  {
   "cell_type": "markdown",
   "metadata": {},
   "source": [
    "#### <font color=\"#FF0000\">Eingabezelle</font>"
   ]
  },
  {
   "cell_type": "code",
   "execution_count": null,
   "metadata": {
    "collapsed": false
   },
   "outputs": [],
   "source": [
    "re.reko_rechteck(10)"
   ]
  },
  {
   "cell_type": "markdown",
   "metadata": {
    "collapsed": true
   },
   "source": [
    "### 4.2 Fouriertransformation\n",
    "\n",
    "Die Fourierreihenentwicklung ist für periodische Signale anwendbar und liefert ein diskretes (Linien)spektrum mit u. U. unendlich vielen Frequenzen. Für aperiodische Signale ist diese Transformation nicht anwendbar. \n",
    "Aus der Fourierreihenentwicklung erkennt man, dass die kleinste enthaltene Frequenz und damit auch der Abstand der Frequenzen von der Periodendauer bestimmt wird. Betrachten wir eine aperiodische Funktion als eine periodische Funktion mit unendlich großer Periodendauer, ergibt sich die Definition der Fouriertransformierten für aperiodische Signale:\n",
    "- Der Linienabstand im Spektrum ist unendlich klein, d. h. es entsteht ein kontinuierliches Spektrum, das jetzt durch eine komplexe Funktion statt durch einzelne Koeffizienten beschrieben wird. \n",
    "- Die Rückgewinnung des Zeitsignals kann daher nicht mehr über eine Summation einzelner Frequenzen erfolgen, sondern muss durch Integration über die Frequenzfunktion erfolgen.\n",
    "\n",
    "Fourierhintransformation:\n",
    "\n",
    "$$\\underline{F}\\left(j\\omega\\right)=\\int_{-\\infty}^{\\infty}x\\left(t\\right)e^{-j\\omega t}dt$$\n",
    "\n",
    "Fourierrücktransformation:\n",
    "\n",
    "$$x\\left(t\\right)=\\frac{1}{2 \\pi}\\int_{-\\infty}^{\\infty}\\underline{F}\\left(j\\omega\\right)e^{j\\omega t}d\\omega$$\n",
    "\n",
    "mit $\\omega = 2\\pi f$."
   ]
  },
  {
   "cell_type": "markdown",
   "metadata": {},
   "source": [
    "### 4.3 Diskrete Fouriertransformation\n",
    "Für die digitale Signalverarbeitung benötigen wir die diskrete Form der Fouriertransformation. Das zu transformierende Signal liegt in Form von Abtastwerten vor. Bei der Abtastung muss das Abtasttheorem eingehalten werden. Des weiteren betrachten wir jetzt immer einen Signalausschnitt mit N Abtastwerten, der durch die Multiplikation mit einem Zeitfenster entstanden ist. Dieser Signalausschnitt wird \"gedanklich\" wiederholt, so dass eine periodische Folge von Abtastwerten vorliegt, die in den Frequenzbereich transformiert werden soll. Daher können wir als Ausgang die Fourierreihenentwicklung nutzen. Die (unbeschränkt vielen) Koeffizienten werden berechnet mit:\n",
    "\n",
    "$$\\underline{c}_{n}=\\frac{1}{T_{0}}\\int_{T_{0}}x\\left(t\\right)e^{-j2\\pi nf_{0}t}dt$$\n",
    "\n",
    "Bei der diskreten Fouriertransformation verändert sich folgendes:\n",
    "- die Funktion $x\\left(t\\right)$ wird ersetzt durch die Abtastwertefolge $\\left\\{ x\\left(k\\right)\\right\\}$\n",
    "- die Periodendauer $T_{0}$ wird ersetzt durch $N\\varDelta t$ \n",
    "- die Zeit $t$ wird ersetzt durch $k\\varDelta t$\n",
    "- die Frequenz $f_{0}$ wird ersetzt durch $\\frac{1}{T_{0}}=\\frac{1}{N\\varDelta t}$\n",
    "- das Integral über eine Periode wird durch die Summe über die Abtastwerte ersetzt\n",
    "\n",
    "\n",
    "$$\\underline{X}_{n}=\\frac{1}{N}\\sum_{k=0}^{N-1}\\left\\{ x\\left(k\\right)\\right\\} e^{-\\frac{j2\\pi nk}{N}}$$\n",
    "\n",
    "Mit dieser Vorschrift wird ein Fourierkoeffizient aus N Abtastwerten berechnet. Zur vollständigen Beschreibung des Signalabschnittes werden N Koeffizienten benötigt, demzufolge wird die obige Gleichung N mal für $0 \\leq n \\leq N-1$ berechnet.\n",
    "\n",
    "Bei der Rücktransformation werden aus diesen N komplexen Koeffizienten $\\underline{X}_{n}$ N Abtastwerte berechnet.\n",
    "Aus der Fourierreihenentwicklung können wir die Vorschrift wieder entwickeln:\n",
    "\n",
    "$$x\\left(t\\right)=\\sum_{n=-\\infty}^{\\infty}\\underline{c}_{n}e^{j2\\pi nf_{0}t}$$\n",
    "\n",
    "- die Funktion $x\\left(t\\right)$ wird ersetzt durch die Abtastwertefolge $\\left\\{ x\\left(k\\right)\\right\\}$\n",
    "- die (u.U.) unendlich vielen Koeffizienten $\\underline{c}_{n}$ werden ersetzt durch die N Koeffizienten $\\underline{X}_{n}$\n",
    "- die Zeit $t$ wird ersetzt durch $k\\varDelta t$\n",
    "- die Frequenz $f_{0}$ wird ersetzt durch $\\frac{1}{T_{0}}=\\frac{1}{N\\varDelta t}$\n",
    "\n",
    "$$\\left\\{ x\\left(k\\right)\\right\\}=\\sum_{n=0}^{N-1}\\underline{X}_{n}e^{\\frac{j2\\pi nk}{N}}$$\n",
    "\n",
    "Mit dieser Vorschrift wird ein Abtastwert aus N Fourierkoeffizienten berechnet. Zur vollständigen Beschreibung des Signalabschnittes werden N Abtastwerte benötigt, demzufolge wird die obige Gleichung N mal für $0 \\leq k \\leq N-1$ berechnet.\n",
    "\n",
    "Diese mehrfache Berechnung durch Einführen einer Transformationsmatrix sehr komfortabel gelöst werden.\n",
    "\n",
    "Nehmen wir an, ein Signalabschnitt mit 4 Abtastwerten soll in den Frequenzbereich transformiert werden.\n",
    "\n",
    "$\\underline{X}_{0}=\\frac{1}{N}\\left(\\left\\{ x\\left(0\\right)\\right\\} e^{-j\\frac{2\\pi}{4}\\cdot0\\cdot0}+\\left\\{ x\\left(1\\right)\\right\\} e^{-j\\frac{2\\pi}{4}\\cdot0\\cdot1}+\\left\\{ x\\left(2\\right)\\right\\} e^{-j\\frac{2\\pi}{4}\\cdot0\\cdot2}+\\left\\{ x\\left(3\\right)\\right\\} e^{-j\\frac{2\\pi}{4}\\cdot0\\cdot3}\\right)$\n",
    "\n",
    "$\\underline{X}_{1}=\\frac{1}{N}\\left(\\left\\{ x\\left(0\\right)\\right\\} e^{-j\\frac{2\\pi}{4}\\cdot1\\cdot0}+\\left\\{ x\\left(1\\right)\\right\\} e^{-j\\frac{2\\pi}{4}\\cdot1\\cdot1}+\\left\\{ x\\left(2\\right)\\right\\} e^{-j\\frac{2\\pi}{4}\\cdot1\\cdot2}+\\left\\{ x\\left(3\\right)\\right\\} e^{-j\\frac{2\\pi}{4}\\cdot1\\cdot3}\\right)$\n",
    "\n",
    "$\\underline{X}_{2}=\\frac{1}{N}\\left(\\left\\{ x\\left(0\\right)\\right\\} e^{-j\\frac{2\\pi}{4}\\cdot2\\cdot0}+\\left\\{ x\\left(1\\right)\\right\\} e^{-j\\frac{2\\pi}{4}\\cdot2\\cdot1}+\\left\\{ x\\left(2\\right)\\right\\} e^{-j\\frac{2\\pi}{4}\\cdot2\\cdot2}+\\left\\{ x\\left(3\\right)\\right\\} e^{-j\\frac{2\\pi}{4}\\cdot2\\cdot3}\\right)$\n",
    "\n",
    "$\\underline{X}_{3}=\\frac{1}{N}\\left(\\left\\{ x\\left(0\\right)\\right\\} e^{-j\\frac{2\\pi}{4}\\cdot3\\cdot0}+\\left\\{ x\\left(1\\right)\\right\\} e^{-j\\frac{2\\pi}{4}\\cdot3\\cdot1}+\\left\\{ x\\left(2\\right)\\right\\} e^{-j\\frac{2\\pi}{4}\\cdot3\\cdot2}+\\left\\{ x\\left(3\\right)\\right\\} e^{-j\\frac{2\\pi}{4}\\cdot3\\cdot3}\\right)$\n",
    "\n",
    "Diese Gleichungen können in Matrixschreibweise dargestellt werden:\n",
    "\n",
    "$$\\left(\\begin{array}{c}\n",
    "\\underline{X}_{0}\\\\\n",
    "\\underline{X}_{1}\\\\\n",
    "\\underline{X}_{2}\\\\\n",
    "\\underline{X}_{3}\n",
    "\\end{array}\\right)=\\frac{1}{N}\\left(\\begin{array}{cccc}\n",
    "e^{-j\\frac{\\pi}{2}\\cdot0} & e^{-j\\frac{\\pi}{2}\\cdot0} & e^{-j\\frac{\\pi}{2}\\cdot0} & e^{-j\\frac{\\pi}{2}\\cdot0}\\\\\n",
    "e^{-j\\frac{\\pi}{2}\\cdot0} & e^{-j\\frac{\\pi}{2}\\cdot1} & e^{-j\\pi\\cdot2} & e^{-j\\frac{\\pi}{2}\\cdot3}\\\\\n",
    "e^{-j\\frac{\\pi}{2}\\cdot0} & e^{-j\\frac{\\pi}{2}\\cdot2} & e^{-j\\frac{\\pi}{2}\\cdot4} & e^{-j\\frac{\\pi}{2}\\cdot6}\\\\\n",
    "e^{-j\\frac{\\pi}{2}\\cdot0} & e^{-j\\frac{\\pi}{2}\\cdot3} & e^{-j\\frac{\\pi}{2}\\cdot6} & e^{-j\\frac{\\pi}{2}\\cdot9}\n",
    "\\end{array}\\right)\\cdot\\left(\\begin{array}{c}\n",
    "x\\left(0\\right)\\\\\n",
    "x\\left(1\\right)\\\\\n",
    "x\\left(2\\right)\\\\\n",
    "x\\left(3\\right)\n",
    "\\end{array}\\right)$$\n",
    "\n",
    "Die Koeffizientenmatrix kann berechnet werden, sie hängt von der Anzahl der Abtastwerte ab. Wir sehen, dass an jeder Position der Faktor $e^{-j\\frac{2\\pi}{N}}$ auftritt. Dieser wird als N. Einheitswurzel $w_{N}$ bezeichnet, hier gilt $w_{4}= e^{-j\\frac{\\pi}{2}} = -j$. Diese Größe wird an jeder Matrixposition mit dem Produkt $n\\cdot k$ potenziert. Damit ergibt sich die Matrix:\n",
    "\n",
    "$$\\underline{W}_{4}=\\left(\\begin{array}{cccc}\n",
    "1 & 1 & 1 & 1\\\\\n",
    "1 & -j & -1 & j\\\\\n",
    "1 & -1 & 1 & -1\\\\\n",
    "1 & j & -1 & -j\n",
    "\\end{array}\\right)$$\n",
    "\n",
    "Damit kann die Transformationsgleichung in Kurzform wie folgt geschrieben werden:\n",
    "\n",
    "$$\\underline{\\vec{X}} = \\frac{1}{N} \\underline{W}_{N} \\vec{x}$$\n",
    "\n",
    "mit\n",
    "- $\\underline{\\vec{X}}$ Koeffizientenvektor\n",
    "- $\\underline{W}_{N}$ Transformationsmatrix für N\n",
    "- $\\vec{x}$ Abtastwertevektor\n",
    "\n",
    "Für die Rücktransformation ergibt sich mit diesen Überlegungen:\n",
    "\n",
    "$$\\vec{x} =  \\underline{W}_{N}^{-1} \\underline{\\vec{X}}$$\n",
    "\n",
    "Die hier benötigte inverse Matrix $\\underline{W}_{N}^{-1}$ ist die konjugiert komplexe Matrix $\\underline{W}_{N}$. Der bei der Hintransformation auftretende Faktor $\\frac{1}{N}$ kann aufgeteilt werden und als Faktor $\\frac{1}{\\sqrt{N}}$ zur Transformationsmatrix hinzugefügt werden. Damit ergibt sich:\n",
    "\n",
    "$\\underline{W}_{N}= \\frac{1}{\\sqrt{N}}w_{N}^{nk}$\n",
    "\n",
    "$\\underline{\\vec{X}} = \\underline{W}_{N} \\vec{x}$ (Hintransformation)\n",
    "\n",
    "$\\vec{x} =  \\underline{W}_{N}^{-1} \\underline{\\vec{X}}$ (Rücktransformation) "
   ]
  },
  {
   "cell_type": "markdown",
   "metadata": {},
   "source": [
    "### 4.4 Diskrete Faltung\n",
    "Die Operation Faltung hat sehr große Bedeutung in der (digitalen) Signalverarbeitung. Damit kann z. B. die Gesamtwirkung ermittelt werden, wenn ein System über einen Zeitraum angeregt wird. Als Beispiel kann man sich einen halligen Raum vorstellen, in dem eine Person in kurzen Zeitabständen klascht. Auf jede Anregung reagiert der Raum mit seinem Nachhall und diese Wirkungen werden summiert. In diesem Fall würde zu einer diskreten Anregung eine kontinuierliche Wirkung gehören. Die Faltung kann für kontinuierliche und diskrete Signale angegeben werden.\n",
    "<img src=\"image/faltung1.jpg\" height=\"600\" width=\"600\">\n",
    "\n",
    "Um diesen Sachverhalt zu verdeutlichen geht man für kontinuierliche Signale wie folgt vor:\n",
    "Die Zeitvariable $t$ wird durch $\\tau$ ersetzt, eine Funktion wird an der y-Achse gespiegelt und um eine Zeit t verschoben. Für jeden Zeitpunkt wird das Produkt beider Funktionen gebildet und über $\\tau$ integriert:\n",
    "\n",
    "$f\\left(t\\right)=\\int_{-\\infty}^{\\infty}f_{1}\\left(t-\\tau\\right)f_{2}\\left(\\tau\\right)d\\tau$\n",
    "\n",
    "Für diskrete Signale wird die Faltung über eine Summation berechnet:\n",
    "\n",
    "$\\left\\{ y\\left(n\\right)\\right\\} =\\sum_{k=-\\infty}^{\\infty}x_{1}\\left(n-k\\right)x_{2}\\left(k\\right)$\n",
    "\n",
    "Wenn die Signale $\\left\\{ x_{1}\\left(k\\right)\\right\\}$ und $\\left\\{ x_{2}\\left(k\\right)\\right\\}$ eine endliche Länge haben beträgt die Länge des Faltungsergebnisses $l\\left(\\left\\{ x_{1}\\left(k\\right)\\right\\} \\right)+l\\left(\\left\\{ x_{2}\\left(k\\right)\\right\\} \\right)-1$.\n",
    "\n",
    "In der folgenden Zelle können Sie zwei Eingangssignale definieren und sich das Faltungsergebnis anzeigen lassen. Alle nicht dargestellten Folgenelemente sind Null. Beachten Sie, das die dargestellten Nullen Bestandteil des Signals bzw. des Faltungsergebnisses sind."
   ]
  },
  {
   "cell_type": "markdown",
   "metadata": {},
   "source": [
    "#### <font color=\"#FF0000\">Eingabezelle</font>"
   ]
  },
  {
   "cell_type": "code",
   "execution_count": null,
   "metadata": {
    "collapsed": false
   },
   "outputs": [],
   "source": [
    "x1 = [0,1,1,1]  \n",
    "x2 = [0,2,1,1,0.5,-0.5]"
   ]
  },
  {
   "cell_type": "code",
   "execution_count": null,
   "metadata": {
    "collapsed": false
   },
   "outputs": [],
   "source": [
    "do.conv_input(x1,x2)"
   ]
  }
 ],
 "metadata": {
  "kernelspec": {
   "display_name": "Python 3",
   "language": "python",
   "name": "python3"
  },
  "language_info": {
   "codemirror_mode": {
    "name": "ipython",
    "version": 3
   },
   "file_extension": ".py",
   "mimetype": "text/x-python",
   "name": "python",
   "nbconvert_exporter": "python",
   "pygments_lexer": "ipython3",
   "version": "3.6.0"
  }
 },
 "nbformat": 4,
 "nbformat_minor": 0
}
