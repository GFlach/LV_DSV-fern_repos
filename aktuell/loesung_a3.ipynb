{
 "cells": [
  {
   "cell_type": "code",
   "execution_count": null,
   "metadata": {},
   "outputs": [],
   "source": [
    "%matplotlib\n",
    "%pylab inline\n",
    "import numpy as np\n",
    "import matplotlib.pyplot as plt"
   ]
  },
  {
   "cell_type": "code",
   "execution_count": null,
   "metadata": {},
   "outputs": [],
   "source": [
    "import sources.uebung.dsv1 as dsv1\n",
    "import sources.dsvorg as do\n",
    "import sources.dac as dac\n",
    "import sources.bsfilter as bsfilter\n",
    "import sources.classes.signal as sig\n",
    "import sources.stochsig as st"
   ]
  },
  {
   "cell_type": "markdown",
   "metadata": {},
   "source": [
    "#### Aufgabe 3\n",
    "Ein Signal $x(t)=X_{0} sin(2\\pi f_{0} t)$ mit $X_{0}=1$ und $f_{0}=2kHz$  soll abgetastet werden.\n",
    "Zeichnen Sie in ein Diagramm:\n",
    "- das abzutastende Signal $x(t)$\n",
    "- das Abtastsignal   mit einer Abtastfrequenz von $f_{S}=5 kHz$ und mit den Abtastzeitpunkten $t_{n}= n \\cdot T_{S}$ für $n = -6 \\ldots+7$\n",
    "- das abgetastete Signal $x'(t)$\n",
    "\n",
    "Zeichnen Sie in ein weiteres Diagramm:\n",
    "\t\n",
    "- das Spektrum des abzutastenden Signals $x(t)$\n",
    "- das Spektrum des Abtastsignals\n",
    "- das Spektrum des abgetasteten Signals $x'(t)$"
   ]
  },
  {
   "cell_type": "markdown",
   "metadata": {},
   "source": [
    "#### Lösung\n",
    "Darstellung im Zeitbereich\n",
    "<img src=\"image/zb_5000.jpg\" height=\"200\" width=\"500\">\n",
    "\n",
    "Darstellung im Frequenzbereich\n",
    "<img src=\"image/fb_5000.jpg\" height=\"200\" width=\"500\">"
   ]
  }
 ],
 "metadata": {
  "kernelspec": {
   "display_name": "Python 3",
   "language": "python",
   "name": "python3"
  },
  "language_info": {
   "codemirror_mode": {
    "name": "ipython",
    "version": 3
   },
   "file_extension": ".py",
   "mimetype": "text/x-python",
   "name": "python",
   "nbconvert_exporter": "python",
   "pygments_lexer": "ipython3",
   "version": "3.6.3"
  }
 },
 "nbformat": 4,
 "nbformat_minor": 1
}
